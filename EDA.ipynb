{
 "cells": [
  {
   "cell_type": "markdown",
   "id": "fewer-repository",
   "metadata": {},
   "source": [
    "# Beak Data Challenge - Data Analyst\n",
    "## Database exploration and analysis"
   ]
  },
  {
   "cell_type": "code",
   "execution_count": 1,
   "id": "surgical-peter",
   "metadata": {},
   "outputs": [],
   "source": [
    "import pandas as pd\n",
    "import numpy as np\n",
    "from sqlalchemy import create_engine, text\n",
    "\n",
    "\n",
    "### Setup the database server\n",
    "credentials = {\n",
    "    'host':'35.227.110.100',\n",
    "    'dbname':'postgres',\n",
    "    'user':'postgres',\n",
    "    'password':'n$EYUJRrmZ9jz2>7o',\n",
    "    'port':'5432'\n",
    "}\n",
    "\n",
    "sql_engine = create_engine(f\"postgresql://{credentials['user']}:{credentials['password']}@{credentials['host']}:{credentials['port']}/{credentials['dbname']}\")\n",
    "\n",
    "def runQuery(sql):\n",
    "    result = sql_engine.connect().execution_options(isolation_level=\"AUTOCOMMIT\").execute((text(sql)))\n",
    "    return pd.DataFrame(result.fetchall(), columns=result.keys())"
   ]
  },
  {
   "cell_type": "code",
   "execution_count": 2,
   "id": "exact-bidder",
   "metadata": {},
   "outputs": [],
   "source": [
    "# Load Tables as DataFrames using Pandas\n",
    "\n",
    "df_audiobook = runQuery(f\"\"\" SELECT *\n",
    "    FROM audiobook\n",
    "    \"\"\")\n",
    "df_book_categories = runQuery(f\"\"\" SELECT *\n",
    "    FROM book_categories\n",
    "    \"\"\")\n",
    "df_audiobook_plays = runQuery(f\"\"\" SELECT *\n",
    "    FROM audiobook_plays\n",
    "    \"\"\")\n",
    "df_users = runQuery(f\"\"\" SELECT *\n",
    "    FROM users\n",
    "    \"\"\")"
   ]
  },
  {
   "cell_type": "code",
   "execution_count": 16,
   "id": "actual-welding",
   "metadata": {},
   "outputs": [
    {
     "data": {
      "text/html": [
       "<div>\n",
       "<style scoped>\n",
       "    .dataframe tbody tr th:only-of-type {\n",
       "        vertical-align: middle;\n",
       "    }\n",
       "\n",
       "    .dataframe tbody tr th {\n",
       "        vertical-align: top;\n",
       "    }\n",
       "\n",
       "    .dataframe thead th {\n",
       "        text-align: right;\n",
       "    }\n",
       "</style>\n",
       "<table border=\"1\" class=\"dataframe\">\n",
       "  <thead>\n",
       "    <tr style=\"text-align: right;\">\n",
       "      <th></th>\n",
       "      <th>id</th>\n",
       "      <th>created_at</th>\n",
       "      <th>user_id</th>\n",
       "      <th>audiobook_id</th>\n",
       "      <th>seconds</th>\n",
       "    </tr>\n",
       "  </thead>\n",
       "  <tbody>\n",
       "    <tr>\n",
       "      <th>0</th>\n",
       "      <td>474656</td>\n",
       "      <td>2018-12-09 00:05:55.712025</td>\n",
       "      <td>877003</td>\n",
       "      <td>249057</td>\n",
       "      <td>446.337</td>\n",
       "    </tr>\n",
       "    <tr>\n",
       "      <th>1</th>\n",
       "      <td>474657</td>\n",
       "      <td>2018-12-09 00:07:40.623874</td>\n",
       "      <td>877003</td>\n",
       "      <td>249057</td>\n",
       "      <td>98.289</td>\n",
       "    </tr>\n",
       "    <tr>\n",
       "      <th>2</th>\n",
       "      <td>474658</td>\n",
       "      <td>2018-12-09 00:11:32.009699</td>\n",
       "      <td>877003</td>\n",
       "      <td>249057</td>\n",
       "      <td>186.955</td>\n",
       "    </tr>\n",
       "    <tr>\n",
       "      <th>3</th>\n",
       "      <td>474659</td>\n",
       "      <td>2018-12-09 01:07:17.111202</td>\n",
       "      <td>877003</td>\n",
       "      <td>249057</td>\n",
       "      <td>279.780</td>\n",
       "    </tr>\n",
       "    <tr>\n",
       "      <th>4</th>\n",
       "      <td>474660</td>\n",
       "      <td>2018-12-09 01:08:37.949031</td>\n",
       "      <td>877003</td>\n",
       "      <td>249057</td>\n",
       "      <td>17.819</td>\n",
       "    </tr>\n",
       "  </tbody>\n",
       "</table>\n",
       "</div>"
      ],
      "text/plain": [
       "       id                 created_at  user_id  audiobook_id  seconds\n",
       "0  474656 2018-12-09 00:05:55.712025   877003        249057  446.337\n",
       "1  474657 2018-12-09 00:07:40.623874   877003        249057   98.289\n",
       "2  474658 2018-12-09 00:11:32.009699   877003        249057  186.955\n",
       "3  474659 2018-12-09 01:07:17.111202   877003        249057  279.780\n",
       "4  474660 2018-12-09 01:08:37.949031   877003        249057   17.819"
      ]
     },
     "execution_count": 16,
     "metadata": {},
     "output_type": "execute_result"
    }
   ],
   "source": [
    "df_audiobook_plays.head()"
   ]
  },
  {
   "cell_type": "code",
   "execution_count": 19,
   "id": "compact-feeling",
   "metadata": {},
   "outputs": [
    {
     "data": {
      "text/html": [
       "<div>\n",
       "<style scoped>\n",
       "    .dataframe tbody tr th:only-of-type {\n",
       "        vertical-align: middle;\n",
       "    }\n",
       "\n",
       "    .dataframe tbody tr th {\n",
       "        vertical-align: top;\n",
       "    }\n",
       "\n",
       "    .dataframe thead th {\n",
       "        text-align: right;\n",
       "    }\n",
       "</style>\n",
       "<table border=\"1\" class=\"dataframe\">\n",
       "  <thead>\n",
       "    <tr style=\"text-align: right;\">\n",
       "      <th></th>\n",
       "      <th>user_id</th>\n",
       "      <th>created_at</th>\n",
       "      <th>last_sign_in_at</th>\n",
       "      <th>gender</th>\n",
       "      <th>has_seen_onboarding</th>\n",
       "      <th>has_been_subscribed</th>\n",
       "    </tr>\n",
       "  </thead>\n",
       "  <tbody>\n",
       "    <tr>\n",
       "      <th>0</th>\n",
       "      <td>953304</td>\n",
       "      <td>2019-02-06 14:55:09.831247</td>\n",
       "      <td>2019-02-06 14:55:09.840241</td>\n",
       "      <td>unknown</td>\n",
       "      <td>False</td>\n",
       "      <td>False</td>\n",
       "    </tr>\n",
       "    <tr>\n",
       "      <th>1</th>\n",
       "      <td>953305</td>\n",
       "      <td>2019-02-06 14:55:14.374629</td>\n",
       "      <td>2019-02-06 14:55:17.487108</td>\n",
       "      <td>unknown</td>\n",
       "      <td>True</td>\n",
       "      <td>False</td>\n",
       "    </tr>\n",
       "    <tr>\n",
       "      <th>2</th>\n",
       "      <td>957297</td>\n",
       "      <td>2019-02-11 14:44:30.186194</td>\n",
       "      <td>2019-02-11 14:44:31.017950</td>\n",
       "      <td>unknown</td>\n",
       "      <td>False</td>\n",
       "      <td>False</td>\n",
       "    </tr>\n",
       "    <tr>\n",
       "      <th>3</th>\n",
       "      <td>953306</td>\n",
       "      <td>2019-02-06 14:55:44.202073</td>\n",
       "      <td>2019-02-06 14:55:44.211160</td>\n",
       "      <td>unknown</td>\n",
       "      <td>False</td>\n",
       "      <td>False</td>\n",
       "    </tr>\n",
       "    <tr>\n",
       "      <th>4</th>\n",
       "      <td>953307</td>\n",
       "      <td>2019-02-06 14:56:36.998561</td>\n",
       "      <td>2019-02-06 14:56:37.005049</td>\n",
       "      <td>unknown</td>\n",
       "      <td>False</td>\n",
       "      <td>False</td>\n",
       "    </tr>\n",
       "  </tbody>\n",
       "</table>\n",
       "</div>"
      ],
      "text/plain": [
       "   user_id                 created_at            last_sign_in_at   gender  \\\n",
       "0   953304 2019-02-06 14:55:09.831247 2019-02-06 14:55:09.840241  unknown   \n",
       "1   953305 2019-02-06 14:55:14.374629 2019-02-06 14:55:17.487108  unknown   \n",
       "2   957297 2019-02-11 14:44:30.186194 2019-02-11 14:44:31.017950  unknown   \n",
       "3   953306 2019-02-06 14:55:44.202073 2019-02-06 14:55:44.211160  unknown   \n",
       "4   953307 2019-02-06 14:56:36.998561 2019-02-06 14:56:37.005049  unknown   \n",
       "\n",
       "   has_seen_onboarding  has_been_subscribed  \n",
       "0                False                False  \n",
       "1                 True                False  \n",
       "2                False                False  \n",
       "3                False                False  \n",
       "4                False                False  "
      ]
     },
     "execution_count": 19,
     "metadata": {},
     "output_type": "execute_result"
    }
   ],
   "source": [
    "df_users.rename(columns={\"id\": \"user_id\"}, inplace=True)\n",
    "df_users.head()"
   ]
  },
  {
   "cell_type": "code",
   "execution_count": 25,
   "id": "rapid-edition",
   "metadata": {},
   "outputs": [
    {
     "data": {
      "text/html": [
       "<div>\n",
       "<style scoped>\n",
       "    .dataframe tbody tr th:only-of-type {\n",
       "        vertical-align: middle;\n",
       "    }\n",
       "\n",
       "    .dataframe tbody tr th {\n",
       "        vertical-align: top;\n",
       "    }\n",
       "\n",
       "    .dataframe thead th {\n",
       "        text-align: right;\n",
       "    }\n",
       "</style>\n",
       "<table border=\"1\" class=\"dataframe\">\n",
       "  <thead>\n",
       "    <tr style=\"text-align: right;\">\n",
       "      <th></th>\n",
       "      <th>user_id</th>\n",
       "      <th>id</th>\n",
       "      <th>created_atab</th>\n",
       "      <th>user_idab</th>\n",
       "      <th>audiobook_id</th>\n",
       "      <th>seconds</th>\n",
       "      <th>user_idu</th>\n",
       "      <th>created_atu</th>\n",
       "      <th>last_sign_in_at</th>\n",
       "      <th>gender</th>\n",
       "      <th>has_seen_onboarding</th>\n",
       "      <th>has_been_subscribed</th>\n",
       "    </tr>\n",
       "  </thead>\n",
       "  <tbody>\n",
       "    <tr>\n",
       "      <th>98254</th>\n",
       "      <td>18165</td>\n",
       "      <td>573028</td>\n",
       "      <td>2019-04-02 15:00:00.689126</td>\n",
       "      <td>18165</td>\n",
       "      <td>143840</td>\n",
       "      <td>2192.813</td>\n",
       "      <td>892548</td>\n",
       "      <td>2018-12-09 17:18:35.098792</td>\n",
       "      <td>2018-12-09 17:18:35.859473</td>\n",
       "      <td>unknown</td>\n",
       "      <td>False</td>\n",
       "      <td>False</td>\n",
       "    </tr>\n",
       "    <tr>\n",
       "      <th>98927</th>\n",
       "      <td>18165</td>\n",
       "      <td>573701</td>\n",
       "      <td>2019-04-03 16:19:27.211005</td>\n",
       "      <td>18165</td>\n",
       "      <td>143840</td>\n",
       "      <td>993.925</td>\n",
       "      <td>892548</td>\n",
       "      <td>2018-12-09 17:18:35.098792</td>\n",
       "      <td>2018-12-09 17:18:35.859473</td>\n",
       "      <td>unknown</td>\n",
       "      <td>False</td>\n",
       "      <td>False</td>\n",
       "    </tr>\n",
       "    <tr>\n",
       "      <th>98928</th>\n",
       "      <td>18165</td>\n",
       "      <td>573702</td>\n",
       "      <td>2019-04-03 16:19:27.222380</td>\n",
       "      <td>18165</td>\n",
       "      <td>143840</td>\n",
       "      <td>1.241</td>\n",
       "      <td>892548</td>\n",
       "      <td>2018-12-09 17:18:35.098792</td>\n",
       "      <td>2018-12-09 17:18:35.859473</td>\n",
       "      <td>unknown</td>\n",
       "      <td>False</td>\n",
       "      <td>False</td>\n",
       "    </tr>\n",
       "    <tr>\n",
       "      <th>99471</th>\n",
       "      <td>18165</td>\n",
       "      <td>574245</td>\n",
       "      <td>2019-04-04 08:50:31.708005</td>\n",
       "      <td>18165</td>\n",
       "      <td>140690</td>\n",
       "      <td>35.762</td>\n",
       "      <td>892548</td>\n",
       "      <td>2018-12-09 17:18:35.098792</td>\n",
       "      <td>2018-12-09 17:18:35.859473</td>\n",
       "      <td>unknown</td>\n",
       "      <td>False</td>\n",
       "      <td>False</td>\n",
       "    </tr>\n",
       "    <tr>\n",
       "      <th>102885</th>\n",
       "      <td>73878</td>\n",
       "      <td>577659</td>\n",
       "      <td>2019-04-08 05:52:31.364019</td>\n",
       "      <td>73878</td>\n",
       "      <td>135595</td>\n",
       "      <td>12.929</td>\n",
       "      <td>979945</td>\n",
       "      <td>2019-03-20 15:25:09.564939</td>\n",
       "      <td>2019-03-20 15:25:09.573435</td>\n",
       "      <td>unknown</td>\n",
       "      <td>False</td>\n",
       "      <td>False</td>\n",
       "    </tr>\n",
       "  </tbody>\n",
       "</table>\n",
       "</div>"
      ],
      "text/plain": [
       "        user_id      id               created_atab  user_idab  audiobook_id  \\\n",
       "98254     18165  573028 2019-04-02 15:00:00.689126      18165        143840   \n",
       "98927     18165  573701 2019-04-03 16:19:27.211005      18165        143840   \n",
       "98928     18165  573702 2019-04-03 16:19:27.222380      18165        143840   \n",
       "99471     18165  574245 2019-04-04 08:50:31.708005      18165        140690   \n",
       "102885    73878  577659 2019-04-08 05:52:31.364019      73878        135595   \n",
       "\n",
       "         seconds  user_idu                created_atu  \\\n",
       "98254   2192.813    892548 2018-12-09 17:18:35.098792   \n",
       "98927    993.925    892548 2018-12-09 17:18:35.098792   \n",
       "98928      1.241    892548 2018-12-09 17:18:35.098792   \n",
       "99471     35.762    892548 2018-12-09 17:18:35.098792   \n",
       "102885    12.929    979945 2019-03-20 15:25:09.564939   \n",
       "\n",
       "                  last_sign_in_at   gender  has_seen_onboarding  \\\n",
       "98254  2018-12-09 17:18:35.859473  unknown                False   \n",
       "98927  2018-12-09 17:18:35.859473  unknown                False   \n",
       "98928  2018-12-09 17:18:35.859473  unknown                False   \n",
       "99471  2018-12-09 17:18:35.859473  unknown                False   \n",
       "102885 2019-03-20 15:25:09.573435  unknown                False   \n",
       "\n",
       "        has_been_subscribed  \n",
       "98254                 False  \n",
       "98927                 False  \n",
       "98928                 False  \n",
       "99471                 False  \n",
       "102885                False  "
      ]
     },
     "execution_count": 25,
     "metadata": {},
     "output_type": "execute_result"
    }
   ],
   "source": [
    "# Create list for user-audiobook_plays\n",
    "df_user_audiobook = df_audiobook_plays.join(df_users, on=\"user_id\", how=\"inner\",lsuffix=\"ab\", rsuffix=\"u\")\n",
    "df_user_audiobook.tail()"
   ]
  },
  {
   "cell_type": "code",
   "execution_count": 27,
   "id": "cellular-matrix",
   "metadata": {},
   "outputs": [
    {
     "data": {
      "text/html": [
       "<div>\n",
       "<style scoped>\n",
       "    .dataframe tbody tr th:only-of-type {\n",
       "        vertical-align: middle;\n",
       "    }\n",
       "\n",
       "    .dataframe tbody tr th {\n",
       "        vertical-align: top;\n",
       "    }\n",
       "\n",
       "    .dataframe thead th {\n",
       "        text-align: right;\n",
       "    }\n",
       "</style>\n",
       "<table border=\"1\" class=\"dataframe\">\n",
       "  <thead>\n",
       "    <tr style=\"text-align: right;\">\n",
       "      <th></th>\n",
       "      <th>id</th>\n",
       "      <th>book_cateogory_code</th>\n",
       "      <th>created_at</th>\n",
       "      <th>name</th>\n",
       "    </tr>\n",
       "  </thead>\n",
       "  <tbody>\n",
       "    <tr>\n",
       "      <th>0</th>\n",
       "      <td>1</td>\n",
       "      <td>ANT000000</td>\n",
       "      <td>2017-12-25 23:11:20.611793</td>\n",
       "      <td>Antiques &amp; Collectibles / General</td>\n",
       "    </tr>\n",
       "    <tr>\n",
       "      <th>1</th>\n",
       "      <td>2</td>\n",
       "      <td>ANT001000</td>\n",
       "      <td>2017-12-25 23:11:21.126837</td>\n",
       "      <td>Antiques &amp; Collectibles / Americana</td>\n",
       "    </tr>\n",
       "    <tr>\n",
       "      <th>2</th>\n",
       "      <td>3</td>\n",
       "      <td>ANT002000</td>\n",
       "      <td>2017-12-25 23:11:21.358555</td>\n",
       "      <td>Antiques &amp; Collectibles / Art</td>\n",
       "    </tr>\n",
       "    <tr>\n",
       "      <th>3</th>\n",
       "      <td>4</td>\n",
       "      <td>ANT003000</td>\n",
       "      <td>2017-12-25 23:11:21.594814</td>\n",
       "      <td>Antiques &amp; Collectibles / Autographs</td>\n",
       "    </tr>\n",
       "    <tr>\n",
       "      <th>4</th>\n",
       "      <td>5</td>\n",
       "      <td>ANT005000</td>\n",
       "      <td>2017-12-25 23:11:21.826704</td>\n",
       "      <td>Antiques &amp; Collectibles / Books</td>\n",
       "    </tr>\n",
       "  </tbody>\n",
       "</table>\n",
       "</div>"
      ],
      "text/plain": [
       "   id book_cateogory_code                 created_at  \\\n",
       "0   1           ANT000000 2017-12-25 23:11:20.611793   \n",
       "1   2           ANT001000 2017-12-25 23:11:21.126837   \n",
       "2   3           ANT002000 2017-12-25 23:11:21.358555   \n",
       "3   4           ANT003000 2017-12-25 23:11:21.594814   \n",
       "4   5           ANT005000 2017-12-25 23:11:21.826704   \n",
       "\n",
       "                                   name  \n",
       "0     Antiques & Collectibles / General  \n",
       "1   Antiques & Collectibles / Americana  \n",
       "2         Antiques & Collectibles / Art  \n",
       "3  Antiques & Collectibles / Autographs  \n",
       "4       Antiques & Collectibles / Books  "
      ]
     },
     "execution_count": 27,
     "metadata": {},
     "output_type": "execute_result"
    }
   ],
   "source": [
    "df_book_categories.head()"
   ]
  },
  {
   "cell_type": "code",
   "execution_count": 28,
   "id": "grave-grave",
   "metadata": {},
   "outputs": [
    {
     "ename": "KeyError",
     "evalue": "'book_cateogory_code'",
     "output_type": "error",
     "traceback": [
      "\u001b[1;31m---------------------------------------------------------------------------\u001b[0m",
      "\u001b[1;31mKeyError\u001b[0m                                  Traceback (most recent call last)",
      "\u001b[1;32m<ipython-input-28-fd2e5ea54a8e>\u001b[0m in \u001b[0;36m<module>\u001b[1;34m\u001b[0m\n\u001b[0;32m      1\u001b[0m \u001b[1;31m# Create list for user-audiobook_plays\u001b[0m\u001b[1;33m\u001b[0m\u001b[1;33m\u001b[0m\u001b[1;33m\u001b[0m\u001b[0m\n\u001b[1;32m----> 2\u001b[1;33m \u001b[0mdf_user_book_categories\u001b[0m \u001b[1;33m=\u001b[0m \u001b[0mdf_audiobook_plays\u001b[0m\u001b[1;33m.\u001b[0m\u001b[0mjoin\u001b[0m\u001b[1;33m(\u001b[0m\u001b[0mdf_book_categories\u001b[0m\u001b[1;33m,\u001b[0m \u001b[0mon\u001b[0m\u001b[1;33m=\u001b[0m\u001b[1;34m\"book_cateogory_code\"\u001b[0m\u001b[1;33m,\u001b[0m \u001b[0mhow\u001b[0m\u001b[1;33m=\u001b[0m\u001b[1;34m\"inner\"\u001b[0m\u001b[1;33m,\u001b[0m\u001b[0mlsuffix\u001b[0m\u001b[1;33m=\u001b[0m\u001b[1;34m\"ab\"\u001b[0m\u001b[1;33m,\u001b[0m \u001b[0mrsuffix\u001b[0m\u001b[1;33m=\u001b[0m\u001b[1;34m\"bc\"\u001b[0m\u001b[1;33m)\u001b[0m\u001b[1;33m\u001b[0m\u001b[1;33m\u001b[0m\u001b[0m\n\u001b[0m\u001b[0;32m      3\u001b[0m \u001b[0mdf_user_book_categories\u001b[0m\u001b[1;33m.\u001b[0m\u001b[0mtail\u001b[0m\u001b[1;33m(\u001b[0m\u001b[1;33m)\u001b[0m\u001b[1;33m\u001b[0m\u001b[1;33m\u001b[0m\u001b[0m\n",
      "\u001b[1;32m~\\miniconda3\\envs\\beek\\lib\\site-packages\\pandas\\core\\frame.py\u001b[0m in \u001b[0;36mjoin\u001b[1;34m(self, other, on, how, lsuffix, rsuffix, sort)\u001b[0m\n\u001b[0;32m   8105\u001b[0m         \u001b[1;36m5\u001b[0m  \u001b[0mK5\u001b[0m  \u001b[0mA5\u001b[0m  \u001b[0mNaN\u001b[0m\u001b[1;33m\u001b[0m\u001b[1;33m\u001b[0m\u001b[0m\n\u001b[0;32m   8106\u001b[0m         \"\"\"\n\u001b[1;32m-> 8107\u001b[1;33m         return self._join_compat(\n\u001b[0m\u001b[0;32m   8108\u001b[0m             \u001b[0mother\u001b[0m\u001b[1;33m,\u001b[0m \u001b[0mon\u001b[0m\u001b[1;33m=\u001b[0m\u001b[0mon\u001b[0m\u001b[1;33m,\u001b[0m \u001b[0mhow\u001b[0m\u001b[1;33m=\u001b[0m\u001b[0mhow\u001b[0m\u001b[1;33m,\u001b[0m \u001b[0mlsuffix\u001b[0m\u001b[1;33m=\u001b[0m\u001b[0mlsuffix\u001b[0m\u001b[1;33m,\u001b[0m \u001b[0mrsuffix\u001b[0m\u001b[1;33m=\u001b[0m\u001b[0mrsuffix\u001b[0m\u001b[1;33m,\u001b[0m \u001b[0msort\u001b[0m\u001b[1;33m=\u001b[0m\u001b[0msort\u001b[0m\u001b[1;33m\u001b[0m\u001b[1;33m\u001b[0m\u001b[0m\n\u001b[0;32m   8109\u001b[0m         )\n",
      "\u001b[1;32m~\\miniconda3\\envs\\beek\\lib\\site-packages\\pandas\\core\\frame.py\u001b[0m in \u001b[0;36m_join_compat\u001b[1;34m(self, other, on, how, lsuffix, rsuffix, sort)\u001b[0m\n\u001b[0;32m   8130\u001b[0m                     \u001b[0msort\u001b[0m\u001b[1;33m=\u001b[0m\u001b[0msort\u001b[0m\u001b[1;33m,\u001b[0m\u001b[1;33m\u001b[0m\u001b[1;33m\u001b[0m\u001b[0m\n\u001b[0;32m   8131\u001b[0m                 )\n\u001b[1;32m-> 8132\u001b[1;33m             return merge(\n\u001b[0m\u001b[0;32m   8133\u001b[0m                 \u001b[0mself\u001b[0m\u001b[1;33m,\u001b[0m\u001b[1;33m\u001b[0m\u001b[1;33m\u001b[0m\u001b[0m\n\u001b[0;32m   8134\u001b[0m                 \u001b[0mother\u001b[0m\u001b[1;33m,\u001b[0m\u001b[1;33m\u001b[0m\u001b[1;33m\u001b[0m\u001b[0m\n",
      "\u001b[1;32m~\\miniconda3\\envs\\beek\\lib\\site-packages\\pandas\\core\\reshape\\merge.py\u001b[0m in \u001b[0;36mmerge\u001b[1;34m(left, right, how, on, left_on, right_on, left_index, right_index, sort, suffixes, copy, indicator, validate)\u001b[0m\n\u001b[0;32m     72\u001b[0m     \u001b[0mvalidate\u001b[0m\u001b[1;33m=\u001b[0m\u001b[1;32mNone\u001b[0m\u001b[1;33m,\u001b[0m\u001b[1;33m\u001b[0m\u001b[1;33m\u001b[0m\u001b[0m\n\u001b[0;32m     73\u001b[0m ) -> \"DataFrame\":\n\u001b[1;32m---> 74\u001b[1;33m     op = _MergeOperation(\n\u001b[0m\u001b[0;32m     75\u001b[0m         \u001b[0mleft\u001b[0m\u001b[1;33m,\u001b[0m\u001b[1;33m\u001b[0m\u001b[1;33m\u001b[0m\u001b[0m\n\u001b[0;32m     76\u001b[0m         \u001b[0mright\u001b[0m\u001b[1;33m,\u001b[0m\u001b[1;33m\u001b[0m\u001b[1;33m\u001b[0m\u001b[0m\n",
      "\u001b[1;32m~\\miniconda3\\envs\\beek\\lib\\site-packages\\pandas\\core\\reshape\\merge.py\u001b[0m in \u001b[0;36m__init__\u001b[1;34m(self, left, right, how, on, left_on, right_on, axis, left_index, right_index, sort, suffixes, copy, indicator, validate)\u001b[0m\n\u001b[0;32m    666\u001b[0m             \u001b[0mself\u001b[0m\u001b[1;33m.\u001b[0m\u001b[0mright_join_keys\u001b[0m\u001b[1;33m,\u001b[0m\u001b[1;33m\u001b[0m\u001b[1;33m\u001b[0m\u001b[0m\n\u001b[0;32m    667\u001b[0m             \u001b[0mself\u001b[0m\u001b[1;33m.\u001b[0m\u001b[0mjoin_names\u001b[0m\u001b[1;33m,\u001b[0m\u001b[1;33m\u001b[0m\u001b[1;33m\u001b[0m\u001b[0m\n\u001b[1;32m--> 668\u001b[1;33m         ) = self._get_merge_keys()\n\u001b[0m\u001b[0;32m    669\u001b[0m \u001b[1;33m\u001b[0m\u001b[0m\n\u001b[0;32m    670\u001b[0m         \u001b[1;31m# validate the merge keys dtypes. We may need to coerce\u001b[0m\u001b[1;33m\u001b[0m\u001b[1;33m\u001b[0m\u001b[1;33m\u001b[0m\u001b[0m\n",
      "\u001b[1;32m~\\miniconda3\\envs\\beek\\lib\\site-packages\\pandas\\core\\reshape\\merge.py\u001b[0m in \u001b[0;36m_get_merge_keys\u001b[1;34m(self)\u001b[0m\n\u001b[0;32m   1056\u001b[0m                     \u001b[0mjoin_names\u001b[0m\u001b[1;33m.\u001b[0m\u001b[0mappend\u001b[0m\u001b[1;33m(\u001b[0m\u001b[1;32mNone\u001b[0m\u001b[1;33m)\u001b[0m\u001b[1;33m\u001b[0m\u001b[1;33m\u001b[0m\u001b[0m\n\u001b[0;32m   1057\u001b[0m                 \u001b[1;32melse\u001b[0m\u001b[1;33m:\u001b[0m\u001b[1;33m\u001b[0m\u001b[1;33m\u001b[0m\u001b[0m\n\u001b[1;32m-> 1058\u001b[1;33m                     \u001b[0mleft_keys\u001b[0m\u001b[1;33m.\u001b[0m\u001b[0mappend\u001b[0m\u001b[1;33m(\u001b[0m\u001b[0mleft\u001b[0m\u001b[1;33m.\u001b[0m\u001b[0m_get_label_or_level_values\u001b[0m\u001b[1;33m(\u001b[0m\u001b[0mk\u001b[0m\u001b[1;33m)\u001b[0m\u001b[1;33m)\u001b[0m\u001b[1;33m\u001b[0m\u001b[1;33m\u001b[0m\u001b[0m\n\u001b[0m\u001b[0;32m   1059\u001b[0m                     \u001b[0mjoin_names\u001b[0m\u001b[1;33m.\u001b[0m\u001b[0mappend\u001b[0m\u001b[1;33m(\u001b[0m\u001b[0mk\u001b[0m\u001b[1;33m)\u001b[0m\u001b[1;33m\u001b[0m\u001b[1;33m\u001b[0m\u001b[0m\n\u001b[0;32m   1060\u001b[0m             \u001b[1;32mif\u001b[0m \u001b[0misinstance\u001b[0m\u001b[1;33m(\u001b[0m\u001b[0mself\u001b[0m\u001b[1;33m.\u001b[0m\u001b[0mright\u001b[0m\u001b[1;33m.\u001b[0m\u001b[0mindex\u001b[0m\u001b[1;33m,\u001b[0m \u001b[0mMultiIndex\u001b[0m\u001b[1;33m)\u001b[0m\u001b[1;33m:\u001b[0m\u001b[1;33m\u001b[0m\u001b[1;33m\u001b[0m\u001b[0m\n",
      "\u001b[1;32m~\\miniconda3\\envs\\beek\\lib\\site-packages\\pandas\\core\\generic.py\u001b[0m in \u001b[0;36m_get_label_or_level_values\u001b[1;34m(self, key, axis)\u001b[0m\n\u001b[0;32m   1681\u001b[0m             \u001b[0mvalues\u001b[0m \u001b[1;33m=\u001b[0m \u001b[0mself\u001b[0m\u001b[1;33m.\u001b[0m\u001b[0maxes\u001b[0m\u001b[1;33m[\u001b[0m\u001b[0maxis\u001b[0m\u001b[1;33m]\u001b[0m\u001b[1;33m.\u001b[0m\u001b[0mget_level_values\u001b[0m\u001b[1;33m(\u001b[0m\u001b[0mkey\u001b[0m\u001b[1;33m)\u001b[0m\u001b[1;33m.\u001b[0m\u001b[0m_values\u001b[0m\u001b[1;33m\u001b[0m\u001b[1;33m\u001b[0m\u001b[0m\n\u001b[0;32m   1682\u001b[0m         \u001b[1;32melse\u001b[0m\u001b[1;33m:\u001b[0m\u001b[1;33m\u001b[0m\u001b[1;33m\u001b[0m\u001b[0m\n\u001b[1;32m-> 1683\u001b[1;33m             \u001b[1;32mraise\u001b[0m \u001b[0mKeyError\u001b[0m\u001b[1;33m(\u001b[0m\u001b[0mkey\u001b[0m\u001b[1;33m)\u001b[0m\u001b[1;33m\u001b[0m\u001b[1;33m\u001b[0m\u001b[0m\n\u001b[0m\u001b[0;32m   1684\u001b[0m \u001b[1;33m\u001b[0m\u001b[0m\n\u001b[0;32m   1685\u001b[0m         \u001b[1;31m# Check for duplicates\u001b[0m\u001b[1;33m\u001b[0m\u001b[1;33m\u001b[0m\u001b[1;33m\u001b[0m\u001b[0m\n",
      "\u001b[1;31mKeyError\u001b[0m: 'book_cateogory_code'"
     ]
    }
   ],
   "source": [
    "# Create list for user-audiobook_plays\n",
    "df_user_book_categories = df_audiobook_plays.join(df_book_categories, on=\"book_cateogory_code\", how=\"inner\",lsuffix=\"ab\", rsuffix=\"bc\")\n",
    "df_user_book_categories.tail()"
   ]
  },
  {
   "cell_type": "raw",
   "id": "discrete-lyric",
   "metadata": {},
   "source": [
    "# delete old dataframes"
   ]
  },
  {
   "cell_type": "code",
   "execution_count": 11,
   "id": "incoming-barrier",
   "metadata": {},
   "outputs": [],
   "source": [
    "# Transform in graphs and plots\n",
    "import networkx as nx\n",
    "from networkx.algorithms import bipartite\n",
    "import matplotlib.pyplot as plt\n",
    "\n",
    "bipartite_graph = nx.Graph()"
   ]
  },
  {
   "cell_type": "markdown",
   "id": "breathing-latino",
   "metadata": {},
   "source": [
    "# Bipartite network users and audiolibros weigthed by time listening"
   ]
  },
  {
   "cell_type": "raw",
   "id": "resistant-remains",
   "metadata": {},
   "source": [
    "# Add nodes with node attribute \"bipartite\"\n",
    "bipartite_graph.add_nodes_from(list_users, bipartite=0)\n",
    "bipartite_graph.add_nodes_from(list_audiobook, bipartite=1)\n",
    "bipartite_graph.add_nodes_from(list_book_categories, bipartite=2)\n",
    "\n",
    "# Add edges in a list of tuples of nodes\n",
    "bipartite_graph = bipartite.add_edges_from([list_tuplas[i] for i in range(length(list_time_listened))])"
   ]
  },
  {
   "cell_type": "raw",
   "id": "representative-comfort",
   "metadata": {},
   "source": [
    "# Create a graph with users and audiobook and the weigth fas the time listened\n",
    "users=bipartite.weighted_projected_graph(bipartite_graph,list_time_listened)\n",
    "\n",
    "pos = nx.spring_layout(users)\n",
    "nx.draw(users, pos = pos, with_labels=True)\n",
    "nx.draw_networkx_edge_labels(users, pos)"
   ]
  },
  {
   "cell_type": "raw",
   "id": "prerequisite-horizon",
   "metadata": {},
   "source": [
    "# Create a graph with users and book_categories and the weigth fas the time listened\n",
    "users=bipartite.weighted_projected_graph(bipartite_graph,list_time_listened)\n",
    "\n",
    "pos = nx.spring_layout(users)\n",
    "nx.draw(users, pos = pos, with_labels=True)\n",
    "nx.draw_networkx_edge_labels(users, pos)"
   ]
  },
  {
   "cell_type": "markdown",
   "id": "prompt-equation",
   "metadata": {},
   "source": [
    "## EJemplo de red bipartita "
   ]
  },
  {
   "cell_type": "code",
   "execution_count": 5,
   "id": "arranged-chapter",
   "metadata": {},
   "outputs": [],
   "source": [
    "B = nx.Graph()\n",
    "\n",
    "# Add nodes with the node attribute \"bipartite\"\n",
    "B.add_nodes_from([1, 2, 3, 4], bipartite=0)\n",
    "B.add_nodes_from([\"a\", \"b\", \"c\"], bipartite=1)\n",
    "\n",
    "# Add edges only between nodes of opposite node sets\n",
    "B.add_edges_from([(1, \"a\"), (1, \"b\"), (2, \"b\"), (2, \"c\"), (3, \"c\"), (4, \"a\")])"
   ]
  },
  {
   "cell_type": "code",
   "execution_count": 7,
   "id": "advisory-westminster",
   "metadata": {},
   "outputs": [
    {
     "data": {
      "image/png": "[encoded data removed]",
      "text/plain": [
       "<Figure size 432x288 with 1 Axes>"
      ]
     },
     "metadata": {},
     "output_type": "display_data"
    }
   ],
   "source": [
    "nx.draw(B, with_labels = True) "
   ]
  },
  {
   "cell_type": "code",
   "execution_count": 12,
   "id": "representative-cheese",
   "metadata": {},
   "outputs": [
    {
     "data": {
      "image/png": "[encoded data removed]",
      "text/plain": [
       "<Figure size 432x288 with 1 Axes>"
      ]
     },
     "metadata": {},
     "output_type": "display_data"
    }
   ],
   "source": [
    "B = nx.path_graph(4)\n",
    "nx.draw(B, with_labels = True) "
   ]
  },
  {
   "cell_type": "code",
   "execution_count": 13,
   "id": "appropriate-dealer",
   "metadata": {},
   "outputs": [
    {
     "data": {
      "image/png": "[encoded data removed]",
      "text/plain": [
       "<Figure size 432x288 with 1 Axes>"
      ]
     },
     "metadata": {},
     "output_type": "display_data"
    }
   ],
   "source": [
    "G = bipartite.weighted_projected_graph(B, [1,3])\n",
    "nx.draw(G, with_labels = True) "
   ]
  },
  {
   "cell_type": "code",
   "execution_count": 14,
   "id": "graduate-might",
   "metadata": {},
   "outputs": [
    {
     "data": {
      "text/plain": [
       "{('s1',\n",
       "  's2'): Text(-0.41330140750657696, 0.046235480948900134, \"{'weight': 1}\"),\n",
       " ('s1',\n",
       "  's3'): Text(-0.6487365980125848, -0.054829936466683216, \"{'weight': 2}\"),\n",
       " ('s2',\n",
       "  's3'): Text(-0.39971697226825814, -0.11508618718468937, \"{'weight': 1}\"),\n",
       " ('s2',\n",
       "  's5'): Text(0.14873659801258476, 0.012462594871731545, \"{'weight': 1}\"),\n",
       " ('s4', 's5'): Text(0.73087748889371, 0.0618403213512363, \"{'weight': 1}\")}"
      ]
     },
     "execution_count": 14,
     "metadata": {},
     "output_type": "execute_result"
    },
    {
     "data": {
      "image/png": "[encoded data removed]",
      "text/plain": [
       "<Figure size 432x288 with 1 Axes>"
      ]
     },
     "metadata": {},
     "output_type": "display_data"
    }
   ],
   "source": [
    "import networkx as nx\n",
    "import matplotlib.pyplot as plt\n",
    "from networkx.algorithms import bipartite\n",
    "g=nx.Graph()\n",
    "g.add_nodes_from(['s1','s2','s3','s4','s5'],bipartite=0)\n",
    "g.add_nodes_from(['t1','t2','t3','t4'],bipartite=1)\n",
    "g.add_edges_from([('s1','t1'),('s1','t4'),('s2','t1'),('s2','t2'),('s3','t1'),('s3','t4'),('s4','t3'),('s5','t2'),('s5','t3')])\n",
    "l=bipartite.weighted_projected_graph(g,['s1','s2','s3','s4','s5'])\n",
    "pos = nx.spring_layout(l)\n",
    "nx.draw(l, pos = pos, with_labels=True)\n",
    "nx.draw_networkx_edge_labels(l, pos)"
   ]
  },
  {
   "cell_type": "code",
   "execution_count": null,
   "id": "failing-classroom",
   "metadata": {},
   "outputs": [],
   "source": []
  }
 ],
 "metadata": {
  "kernelspec": {
   "display_name": "Python 3",
   "language": "python",
   "name": "python3"
  },
  "language_info": {
   "codemirror_mode": {
    "name": "ipython",
    "version": 3
   },
   "file_extension": ".py",
   "mimetype": "text/x-python",
   "name": "python",
   "nbconvert_exporter": "python",
   "pygments_lexer": "ipython3",
   "version": "3.9.1"
  }
 },
 "nbformat": 4,
 "nbformat_minor": 5
}
