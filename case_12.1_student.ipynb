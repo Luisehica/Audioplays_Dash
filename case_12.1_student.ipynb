{
 "cells": [
  {
   "cell_type": "markdown",
   "metadata": {},
   "source": [
    "<h1>How can we optimize our sales of financial products?</h1>"
   ]
  },
  {
   "cell_type": "markdown",
   "metadata": {},
   "source": [
    "<h2>Goals</h2>\n",
    "<p>By the end of ths case, you will be familiar with databases. Specifically, you will learn the differences among the major types of databases and the different database management systems available. Basic SQL queries will also be introduced.</p>\n",
    "<p>You will also be exposed to the technical jargon of databases. While you probably will not use these terms on a daily basis, they will give you a more holistic understanding of the data engineering discipline and facilitate conversations between yourself and other data engineers.</p>"
   ]
  },
  {
   "cell_type": "markdown",
   "metadata": {},
   "source": [
    "<h2>Introduction</h2>\n",
    "<p><strong>Business Context.</strong> You are a data analyst at a large financial services firm that sells a diverse portfolio of products. In order to make these sales, the firm relies on a call center where sales agents make calls to current as well as prospective customers. The company would like you to dive into their data to devise strategies to increase their revenue or reduce their costs. Specifically, they would like to double down on their most reliable customers, and to cut out sales agents whom are not producing outcomes.</p>\n",
    "<p><strong>Business Problem.</strong> The business would like to answer the following questions: <strong>\"What types of customers are most likely to buy our product? And which of my sales agents are the most/least productive?</strong></p>\n",
    "<p><strong>Analytical Context.</strong> The data is split across 3 tables: \"Agents\", \"Calls\", and \"Customers\", which sit on CSV files. Unlike previous cases though, we will first be reading these CSV files into a SQLite database created within Python. You will learn how this database differs from CSV files and how to interact with it using SQL to extract useful insights.</p>\n",
    "<p>The case is sequenced as follows: you will (1) learn the fundamentals of databases and SQL; (2) use SQL <code>SELECT</code> statements to identify potentially interesting customers; and (4) use SQL aggregation functions to compute summary statistics on your agents and identify the most/least productive ones.</p>"
   ]
  },
  {
   "cell_type": "markdown",
   "metadata": {},
   "source": [
    "<h2>Why databases?</h2>"
   ]
  },
  {
   "cell_type": "markdown",
   "metadata": {},
   "source": [
    "<p>While we have been dealing with data sitting in CSV files so far, no serious data organization runs their operations off of CSV files on a single person's computer. This practice presents all sorts of hazards, including but not limited to:</p>\n",
    "<ol>\n",
    "<li>Destruction of that single device</li>\n",
    "<li>Destruction of the files on that device</li>\n",
    "<li>Inability to connect to that person's device from another device that requires the data</li>\n",
    "<li>Inability to store more than a limited amount of data (since a single device doesn't have that much memory)</li>\n",
    "</ol>\n",
    "<p>Therefore, our data should be stored elsewhere if we want to reliably access it in the future and, more importantly, share it and work on it with others. The <strong>database</strong> is the classic location where modern organizations have chosen to store their data for professional use. Databases have been a topic of research since the late 1960s. Many technology vendors picked up on this and developed databases software for companies to consume. Some of these vendors and products are:</p>\n",
    "<ol>\n",
    "<li>Microsoft, initially with Microsoft Access and more recently with Microsoft SQL Server</li>\n",
    "<li>Oracle, with their Oracle database and MySQL (a popular open source database)</li>\n",
    "<li>The “PostgreSQL Global Development Group”, with the open-source PostgreSQL</li>\n",
    "</ol>\n",
    "<p>These databases all implement the standard SQL language and are thus fairly similar to each other in terms of features. However, there are some key differences. Comparing <code>MySQL</code> vs. <code>PostgreSQL</code>, the two most popular database systems, MySQL does not implement <code>FULL JOINS</code> (you will learn about <code>JOIN</code>s later on). PostgreSQL also supports some more advanced aggregation functions for statistics (you will learn about these soon). For example, in PostgreSQL you can perform regressions directly on the data before retrieving it, whereas MySQL only supports basic stats operations. However, this overhead leads to a slight performance hit, making MySQL faster for simple retrieval tasks.</p>\n",
    "<p>For the purposes of this case study, we will be using PostgreSQL.</p>"
   ]
  },
  {
   "cell_type": "markdown",
   "metadata": {},
   "source": [
    "<h2>Types of databases</h2>\n",
    "<p>At this point, you might believe that databases can be thought of as a collection of data. This is true, but unfortunately it is not that simple. Data cannot simply be thrown in a database the same way you throw your socks in your sock drawer. Depending on your needs for the data, you will choose between one of two main types of databases.</p>"
   ]
  },
  {
   "cell_type": "markdown",
   "metadata": {},
   "source": [
    "<h3>Relational databases</h3>\n",
    "<p>The most common database type is called a <strong>relational database</strong>, and the systems that manage these kinds of databases are called <strong>Relational Database Management Systems (RDBMS)</strong>. Relational databases date back to the early 1970s and can be considered the first type of database ever conceived. Continuing with our sock example, this drawer would have many identical slots, each for one pair of socks. The socks may be of different materials, colors, brands, etc., but they need to fit into a slot.</p>\n",
    "<p>Relational databases deal with “relational data”, which is a fancy way of saying “tabular” data. This kind of dataset consists of rows and columns (i.e. tables) where each row corresponds to an observation and each column corresponds to an attribute of that observation. So, for example, if we go back to the example where we were keeping track of our friends and their phones, each row on the file (or table) represents one friend and each column represents the information we want to track about that friend (name and phone number). The cell on the intersection of the row and column contains the actual data. Relational data is manipulated using a specific language called <strong>SQL (Structured Query Language)</strong>, which we will learn about soon.</p>\n",
    "<p>A simple way to conceptualize a table inside a relational database is as a CSV file “copied” to the database. In fact, many databases offer that possibility (assuming your file is correctly formatted, of course).</p>"
   ]
  },
  {
   "cell_type": "markdown",
   "metadata": {},
   "source": [
    "<h3>NoSQL databases</h3>\n",
    "<p>Around 20 years ago, with the advent of the Internet and the necessity to store and process unstructured data (i.e. data that does not fit well in the row-by-column paradigm), developers started to discuss another type of database, which eventually ended up being referred to as a <strong>NoSQL database</strong>. These databases are not relational and are also built with more “relaxed” rules compared to their predecessors. NoSQL databases are more like a big drawer without slots and not exclusively for socks. You may choose to use this drawer primarily for socks of all sizes - small ones, big ones, maybe even a loose sock by itself - but it could also contain other items like sweaters or pants.</p>\n",
    "<p>As the name implies, NoSQL databases do not rely on SQL, although many of them do allow you to use SQL to interface with them. At its core, a NoSQL database is simply a key-value store. That is, everything you store (sometimes called a <strong>document</strong>) in this database has a key associated with it. The database's job is simply to help you retrieve your desired document as quickly as possible. Nothing pre-determines what a document contains (i.e. it does not have a concept of \"tables\"); however, this flexibility comes at a price. When you retrieve a document, you have to perform extra checks on it to ensure its validity as the database will not automatically do this for you as it would with a relational database. This may or may not be desireable depending on your particular application.</p>"
   ]
  },
  {
   "cell_type": "markdown",
   "metadata": {},
   "source": [
    "<h3>When to pick one over the other</h3>\n",
    "<p>Picking between RDBMS vs. NoSQL really comes down to the requirements of your project. We touched on this above, but both systems prioritize different parts of the <a href=\"https://en.wikipedia.org/wiki/CAP_theorem\"><strong>CAP Theorem</strong></a>. Simply put, the CAP Theorem says that a database system can't have all three of the following:</p>\n",
    "<ul>\n",
    "<li><strong>Consistency</strong>: Every read of the database will return the most up-to-date write version or an error</li>\n",
    "<li><strong>Availability</strong>: Every request receives a (non-error) response, without the guarantee that it contains the most up-to-date write version</li>\n",
    "<li><strong>Partition Tolerance</strong>: The system continues to operate no matter the network quality between nodes</li>\n",
    "</ul>\n",
    "<p>NoSQL prefers to be partition tolerant over consistent whereas RDBMS is the opposite. In certain applications, consistency is imperative which often forces you into using RDBMS. For example, if you are a bank and you query a customer's balance, you want to guarantee that the number you get is the most recent one and not the one from yesterday.</p>\n",
    "<p>For the remainder of the case, we shall only consider RDBMS systems.</p>"
   ]
  },
  {
   "cell_type": "markdown",
   "metadata": {},
   "source": [
    "<h2>What is this \"SQL\" thing?</h2>"
   ]
  },
  {
   "cell_type": "markdown",
   "metadata": {},
   "source": [
    "<p>So we've been dropping in references to SQL throughout, yet we haven't explained what it is. Now we will! Just like data can't really survive without a database, a database can't be utilized without SQL. SQL is used for a wide variety of tasks, including but not limited to extracting data, creating the internal structure of a database (in the form of tables), and reading and writing data to these tables. SQL is an international published by the <a href=\"https://www.iso.org/standard/63555.html\">ISO</a> and so it is the de facto language that all database systems adhere to.</p>\n",
    "<p>In this case, we will be writing SQL queries using the <a href=\"https://www.sqlalchemy.org/\"><code>SQLAlchemy</code></a> package in Python. This allows you to directly interface with relational databases without exiting the Python environment, while using syntax that is identical to what you would write outside of Python. Run the code below to set up this framework:</p>"
   ]
  },
  {
   "cell_type": "code",
   "execution_count": 39,
   "metadata": {},
   "outputs": [],
   "source": [
    "import pandas as pd\n",
    "from sqlalchemy import create_engine, text\n",
    "\n",
    "#maximum number of rows to display\n",
    "pd.options.display.max_rows = 10\n",
    "\n",
    "engine=create_engine('sqlite://')\n",
    "df = pd.read_csv('customer.csv').to_sql('customer', engine, if_exists='replace', index=False)\n",
    "df = pd.read_csv('agent.csv').to_sql('agent', engine, if_exists='replace', index=False)\n",
    "df = pd.read_csv('call.csv').to_sql('call', engine, if_exists='replace', index=False)\n",
    "\n",
    "def runQuery(sql):\n",
    "    result = engine.connect().execute((text(sql)))\n",
    "    return pd.DataFrame(result.fetchall(), columns=result.keys())"
   ]
  },
  {
   "cell_type": "code",
   "execution_count": 10,
   "metadata": {},
   "outputs": [
    {
     "data": {
      "text/html": [
       "<div>\n",
       "<style scoped>\n",
       "    .dataframe tbody tr th:only-of-type {\n",
       "        vertical-align: middle;\n",
       "    }\n",
       "\n",
       "    .dataframe tbody tr th {\n",
       "        vertical-align: top;\n",
       "    }\n",
       "\n",
       "    .dataframe thead th {\n",
       "        text-align: right;\n",
       "    }\n",
       "</style>\n",
       "<table border=\"1\" class=\"dataframe\">\n",
       "  <thead>\n",
       "    <tr style=\"text-align: right;\">\n",
       "      <th></th>\n",
       "      <th>COUNT(*)</th>\n",
       "    </tr>\n",
       "  </thead>\n",
       "  <tbody>\n",
       "    <tr>\n",
       "      <th>0</th>\n",
       "      <td>1000</td>\n",
       "    </tr>\n",
       "  </tbody>\n",
       "</table>\n",
       "</div>"
      ],
      "text/plain": [
       "   COUNT(*)\n",
       "0      1000"
      ]
     },
     "execution_count": 10,
     "metadata": {},
     "output_type": "execute_result"
    }
   ],
   "source": [
    "query = \"\"\"SELECT COUNT(*) \n",
    "FROM Customer\"\"\"\n",
    "runQuery(query)"
   ]
  },
  {
   "cell_type": "markdown",
   "metadata": {},
   "source": [
    "<p>The columns in each of the tables are as follows:</p>\n",
    "<p><strong>agent.csv</strong>:\n",
    "- <strong>AgentID</strong>: the primary key of the table (more on this below)\n",
    "- <strong>Name</strong>: the name of the agent</p>\n",
    "<p><strong>call.csv</strong>:\n",
    "- <strong>CallID</strong>: the primary key of the table\n",
    "- <strong>AgentID</strong>: a foreign key (more on this below) to the agents table of the agent who made the call\n",
    "- <strong>CustomerID</strong>: a foreign key to the customers table of the customer who is being called\n",
    "- <strong>PickedUp</strong>: a Boolean that is 1 if the customer picked up and 0 if they did not\n",
    "- <strong>Duration</strong>: integer of the duration of the call\n",
    "- <strong>ProductSold</strong>: a Boolean that is 1 if the agent made a sale and 0 if they did not</p>\n",
    "<p><strong>customer.csv</strong>:\n",
    "- <strong>CustomerID</strong>: the primary key of the table\n",
    "- <strong>Name</strong>: the name of the customer\n",
    "- <strong>Occupation</strong>: the occupation of the customer. 'Unemployed' if no occupation\n",
    "- <strong>Email</strong>: the email of the customer\n",
    "- <strong>Company</strong>: the company that the customer works for\n",
    "- <strong>PhoneNumber</strong>: the phone number of the customer\n",
    "- <strong>Age</strong>: the age of the customer</p>\n",
    "<p>The above database structure can be visualized as below. This is called an <strong>Entity Relationship (ER) Diagram</strong>, denoting the tables present in the database, the columns in the tables, and the relations among the tables:</p>\n",
    "<p><img alt=\"ER Diagram\" src=\"images/database_schema.png\" /></p>\n",
    "<p>The above diagram gives a good overview of how the schema is structured and how the data is interconnected.</p>"
   ]
  },
  {
   "cell_type": "markdown",
   "metadata": {},
   "source": [
    "<h2>Finding potentially interesting customer cohorts</h2>\n",
    "<p>The most important thing you will ever do in SQL is extract a subset of the data from a SQL table based on a set of rules. This is accomplished using the <strong><code>SELECT</code></strong> statement and the following syntax:</p>\n",
    "<p><img alt=\"Select Anatomy\" src=\"./images/select_anatomy.png\" /></p>\n",
    "<p>To translate the above diagram into words:</p>\n",
    "<ol>\n",
    "<li>Start with the keyword <code>SELECT</code></li>\n",
    "<li>Follow with the names of the columns you want to select, separated by commas (alternatively, you can use the <code>*</code> symbol to indicate you wish to select all columns)</li>\n",
    "<li>Follow with the keyword <code>FROM</code></li>\n",
    "<li>Finish with the name of the table you wish to select data from</li>\n",
    "<li>Optionally, you can use the <code>WHERE</code> clause to only return results which satisfy certain conditions (similar to how code within Python <code>if...then</code> blocks only execute if the associated conditions are true)</li>\n",
    "</ol>\n",
    "<p>Since the firm wants to dig deeper into its customers, let's start by pulling some of their data out of our files; namely, information about customers who are not unemployed (and therefore are more likely to buy from us).</p>"
   ]
  },
  {
   "cell_type": "markdown",
   "metadata": {},
   "source": [
    "<h3>Exercise 1:</h3>\n",
    "<p>Write a query that selects the customer ID and name from the <code>Customer</code> table, only showing results for customers who are not unemployed. Remember to write your query as a multi-line string (enclosed within a pair of triple quotes <code>\"\"\"</code>) and pass it to the <code>runQuery()</code> function defined in the framework above to check your work!</p>"
   ]
  },
  {
   "cell_type": "code",
   "execution_count": 36,
   "metadata": {
    "tags": [
     "ans_st"
    ]
   },
   "outputs": [
    {
     "data": {
      "text/plain": [
       "pandas.core.frame.DataFrame"
      ]
     },
     "execution_count": 36,
     "metadata": {},
     "output_type": "execute_result"
    }
   ],
   "source": [
    "query1 = \"\"\"\n",
    "SELECT CustomerID, Name AS CustomerName\n",
    "FROM customer\n",
    "WHERE Occupation != 'Unemployed'\n",
    "ORDER BY Name ASC\n",
    "\"\"\"\n",
    "type(runQuery(query1))"
   ]
  },
  {
   "cell_type": "markdown",
   "metadata": {},
   "source": [
    "Of course, for names, it's sensible to try to list them in alphabetical order. SQL allows us to do this rather easily with the ORDER BY statement. This is then followed by a comma-separated list of columns on which you want to order your results (columns that come first take priority in the subsequent ordering). Optionally, you can then append the keyword ASC or DESC (short for ascending and descending, respectively) after each column to determine the ordering type (e.g. alphabetical or reverse-alphabetical for a string column)."
   ]
  },
  {
   "cell_type": "markdown",
   "metadata": {},
   "source": [
    "-------"
   ]
  },
  {
   "cell_type": "markdown",
   "metadata": {},
   "source": [
    "<p>This is a great first step; however, while producing the list of customers that are not unemployed, you inevitably spend a lot of time looking at the different professions your customers have and realize how often engineers appear in your database. You know that engineering jobs tend to command higher salaries these days, so you decide to try to extract a list of all the unique types of engineering jobs that are represented in your database. To ensure that you don't get duplicate job titles in your query results, you'll need to write the keyword <code>DISTINCT</code> immediately after <code>SELECT</code> in your query.</p>"
   ]
  },
  {
   "cell_type": "markdown",
   "metadata": {},
   "source": [
    "<h3>Exercise 2:</h3>\n",
    "<p>Write a query which produces a list, in alphabetical order, of all the distinct occupations in the <code>Customer</code> table that contain the word \"Engineer\".</p>\n",
    "<p><strong>Hint:</strong> The <code>LIKE</code> operator can be used when you want to look for similar values. It is included as part of a <code>WHERE</code> clause. It needs to be complemented with the <code>%</code> symbol, which is a wild card that represents zero, one, or multiple characters. For example, one valid <code>WHERE</code> clause utilizing the <code>LIKE</code> operator is <code>WHERE Name LIKE 'Matt%'</code>, which would return any results where the person's name starts with the word \"Matt\"; e.g. \"Matt\" or \"Matteo\" or \"Matthew\", etc.</p>"
   ]
  },
  {
   "cell_type": "code",
   "execution_count": 26,
   "metadata": {
    "tags": [
     "ans_st"
    ]
   },
   "outputs": [
    {
     "data": {
      "text/html": [
       "<div>\n",
       "<style scoped>\n",
       "    .dataframe tbody tr th:only-of-type {\n",
       "        vertical-align: middle;\n",
       "    }\n",
       "\n",
       "    .dataframe tbody tr th {\n",
       "        vertical-align: top;\n",
       "    }\n",
       "\n",
       "    .dataframe thead th {\n",
       "        text-align: right;\n",
       "    }\n",
       "</style>\n",
       "<table border=\"1\" class=\"dataframe\">\n",
       "  <thead>\n",
       "    <tr style=\"text-align: right;\">\n",
       "      <th></th>\n",
       "      <th>Occupation</th>\n",
       "    </tr>\n",
       "  </thead>\n",
       "  <tbody>\n",
       "    <tr>\n",
       "      <th>0</th>\n",
       "      <td>Chemical engineer</td>\n",
       "    </tr>\n",
       "    <tr>\n",
       "      <th>1</th>\n",
       "      <td>Electrical engineer</td>\n",
       "    </tr>\n",
       "    <tr>\n",
       "      <th>2</th>\n",
       "      <td>Engineer, aeronautical</td>\n",
       "    </tr>\n",
       "    <tr>\n",
       "      <th>3</th>\n",
       "      <td>Engineer, agricultural</td>\n",
       "    </tr>\n",
       "    <tr>\n",
       "      <th>4</th>\n",
       "      <td>Engineer, automotive</td>\n",
       "    </tr>\n",
       "    <tr>\n",
       "      <th>...</th>\n",
       "      <td>...</td>\n",
       "    </tr>\n",
       "    <tr>\n",
       "      <th>24</th>\n",
       "      <td>Engineer, production</td>\n",
       "    </tr>\n",
       "    <tr>\n",
       "      <th>25</th>\n",
       "      <td>Engineer, site</td>\n",
       "    </tr>\n",
       "    <tr>\n",
       "      <th>26</th>\n",
       "      <td>Engineer, structural</td>\n",
       "    </tr>\n",
       "    <tr>\n",
       "      <th>27</th>\n",
       "      <td>Engineer, technical sales</td>\n",
       "    </tr>\n",
       "    <tr>\n",
       "      <th>28</th>\n",
       "      <td>Engineer, water</td>\n",
       "    </tr>\n",
       "  </tbody>\n",
       "</table>\n",
       "<p>29 rows × 1 columns</p>\n",
       "</div>"
      ],
      "text/plain": [
       "                   Occupation\n",
       "0           Chemical engineer\n",
       "1         Electrical engineer\n",
       "2      Engineer, aeronautical\n",
       "3      Engineer, agricultural\n",
       "4        Engineer, automotive\n",
       "..                        ...\n",
       "24       Engineer, production\n",
       "25             Engineer, site\n",
       "26       Engineer, structural\n",
       "27  Engineer, technical sales\n",
       "28            Engineer, water\n",
       "\n",
       "[29 rows x 1 columns]"
      ]
     },
     "execution_count": 26,
     "metadata": {},
     "output_type": "execute_result"
    }
   ],
   "source": [
    "runQuery(\"\"\"\n",
    "SELECT DISTINCT occupation\n",
    "FROM Customer\n",
    "WHERE occupation like '%engineer%'\n",
    "ORDER BY Occupation\n",
    "\"\"\")"
   ]
  },
  {
   "cell_type": "markdown",
   "metadata": {},
   "source": [
    "-------"
   ]
  },
  {
   "cell_type": "markdown",
   "metadata": {},
   "source": [
    "<p>Now, one of your marketing colleagues tells you that people who are 30 or older will have a higher probability of buying your product (presumably because by that point they have more disposable income and savings). You don't want to take your colleague's word for granted, so you decide not to completely ignore people under 30, and instead add that information to the report regarding the person’s age, so that the agent making the subsequent call can decide how they want to use that information. However, due to privacy concerns, you also cannot share the person's exact age.</p>"
   ]
  },
  {
   "cell_type": "markdown",
   "metadata": {},
   "source": [
    "<h3>Exercise 3:</h3>\n",
    "<p>Write a query that retuns the customer ID, their name, and a column <code>Over30</code> containing \"Yes\" if the customer is more than 30 years of age and \"No\" if not.</p>\n",
    "<p><strong>Hint:</strong> You will need to use the <code>CASE-END</code> clause. The <code>CASE-END</code> clause can be used to evaluate conditional statements and returns a value once a condition is met (similar to an if-then-else clause in Python). If no conditions are true, it returns the value in the ELSE clause (or NULL if there is no ELSE statement). For example:</p>\n",
    "<div class=\"codehilite\"><pre><span></span><code><span class=\"k\">CASE</span>\n",
    "    <span class=\"k\">WHEN</span> <span class=\"n\">Name</span> <span class=\"o\">=</span> <span class=\"ss\">&quot;Matt&quot;</span> <span class=\"k\">THEN</span> <span class=\"s1\">&#39;Yes&#39;</span>\n",
    "    <span class=\"k\">WHEN</span> <span class=\"n\">Name</span> <span class=\"o\">=</span> <span class=\"ss\">&quot;Matteo&quot;</span> <span class=\"k\">THEN</span> <span class=\"s1\">&#39;Maybe&#39;</span>\n",
    "    <span class=\"k\">ELSE</span> <span class=\"s1\">&#39;No&#39;</span>\n",
    "<span class=\"k\">END</span>\n",
    "</code></pre></div>"
   ]
  },
  {
   "cell_type": "code",
   "execution_count": 37,
   "metadata": {
    "tags": [
     "ans_st"
    ]
   },
   "outputs": [
    {
     "data": {
      "text/html": [
       "<div>\n",
       "<style scoped>\n",
       "    .dataframe tbody tr th:only-of-type {\n",
       "        vertical-align: middle;\n",
       "    }\n",
       "\n",
       "    .dataframe tbody tr th {\n",
       "        vertical-align: top;\n",
       "    }\n",
       "\n",
       "    .dataframe thead th {\n",
       "        text-align: right;\n",
       "    }\n",
       "</style>\n",
       "<table border=\"1\" class=\"dataframe\">\n",
       "  <thead>\n",
       "    <tr style=\"text-align: right;\">\n",
       "      <th></th>\n",
       "      <th>CustomerID</th>\n",
       "      <th>Name</th>\n",
       "      <th>Over30</th>\n",
       "    </tr>\n",
       "  </thead>\n",
       "  <tbody>\n",
       "    <tr>\n",
       "      <th>0</th>\n",
       "      <td>900</td>\n",
       "      <td>Aaron Gutierrez</td>\n",
       "      <td>Yes</td>\n",
       "    </tr>\n",
       "    <tr>\n",
       "      <th>1</th>\n",
       "      <td>461</td>\n",
       "      <td>Aaron Hendrix</td>\n",
       "      <td>No</td>\n",
       "    </tr>\n",
       "    <tr>\n",
       "      <th>2</th>\n",
       "      <td>145</td>\n",
       "      <td>Aaron Mcintyre</td>\n",
       "      <td>No</td>\n",
       "    </tr>\n",
       "    <tr>\n",
       "      <th>3</th>\n",
       "      <td>622</td>\n",
       "      <td>Aaron Rose</td>\n",
       "      <td>No</td>\n",
       "    </tr>\n",
       "    <tr>\n",
       "      <th>4</th>\n",
       "      <td>65</td>\n",
       "      <td>Adam Jimenez</td>\n",
       "      <td>No</td>\n",
       "    </tr>\n",
       "    <tr>\n",
       "      <th>...</th>\n",
       "      <td>...</td>\n",
       "      <td>...</td>\n",
       "      <td>...</td>\n",
       "    </tr>\n",
       "    <tr>\n",
       "      <th>995</th>\n",
       "      <td>883</td>\n",
       "      <td>Zachary Anderson</td>\n",
       "      <td>No</td>\n",
       "    </tr>\n",
       "    <tr>\n",
       "      <th>996</th>\n",
       "      <td>18</td>\n",
       "      <td>Zachary Howe</td>\n",
       "      <td>No</td>\n",
       "    </tr>\n",
       "    <tr>\n",
       "      <th>997</th>\n",
       "      <td>421</td>\n",
       "      <td>Zachary Ruiz</td>\n",
       "      <td>Yes</td>\n",
       "    </tr>\n",
       "    <tr>\n",
       "      <th>998</th>\n",
       "      <td>986</td>\n",
       "      <td>Zachary Stevenson</td>\n",
       "      <td>No</td>\n",
       "    </tr>\n",
       "    <tr>\n",
       "      <th>999</th>\n",
       "      <td>392</td>\n",
       "      <td>Zachary Wilson</td>\n",
       "      <td>Yes</td>\n",
       "    </tr>\n",
       "  </tbody>\n",
       "</table>\n",
       "<p>1000 rows × 3 columns</p>\n",
       "</div>"
      ],
      "text/plain": [
       "     CustomerID               Name Over30\n",
       "0           900    Aaron Gutierrez    Yes\n",
       "1           461      Aaron Hendrix     No\n",
       "2           145     Aaron Mcintyre     No\n",
       "3           622         Aaron Rose     No\n",
       "4            65       Adam Jimenez     No\n",
       "..          ...                ...    ...\n",
       "995         883   Zachary Anderson     No\n",
       "996          18       Zachary Howe     No\n",
       "997         421       Zachary Ruiz    Yes\n",
       "998         986  Zachary Stevenson     No\n",
       "999         392     Zachary Wilson    Yes\n",
       "\n",
       "[1000 rows x 3 columns]"
      ]
     },
     "execution_count": 37,
     "metadata": {},
     "output_type": "execute_result"
    }
   ],
   "source": [
    "runQuery(\"\"\"\n",
    "SELECT CustomerID, Name,\n",
    "    CASE\n",
    "        WHEN Age >= 30 THEN 'Yes'\n",
    "        WHEN Age < 30 THEN 'No'\n",
    "        ELSE 'Missing Data'\n",
    "    END AS Over30\n",
    "FROM Customer\n",
    "ORDER BY Name ASC\n",
    "\"\"\")"
   ]
  },
  {
   "cell_type": "code",
   "execution_count": 34,
   "metadata": {},
   "outputs": [
    {
     "data": {
      "text/html": [
       "<div>\n",
       "<style scoped>\n",
       "    .dataframe tbody tr th:only-of-type {\n",
       "        vertical-align: middle;\n",
       "    }\n",
       "\n",
       "    .dataframe tbody tr th {\n",
       "        vertical-align: top;\n",
       "    }\n",
       "\n",
       "    .dataframe thead th {\n",
       "        text-align: right;\n",
       "    }\n",
       "</style>\n",
       "<table border=\"1\" class=\"dataframe\">\n",
       "  <thead>\n",
       "    <tr style=\"text-align: right;\">\n",
       "      <th></th>\n",
       "      <th>CustomerID</th>\n",
       "      <th>Name</th>\n",
       "      <th>Occupation</th>\n",
       "      <th>Over30</th>\n",
       "    </tr>\n",
       "  </thead>\n",
       "  <tbody>\n",
       "    <tr>\n",
       "      <th>0</th>\n",
       "      <td>622</td>\n",
       "      <td>Aaron Rose</td>\n",
       "      <td>Engineer, production</td>\n",
       "      <td>No</td>\n",
       "    </tr>\n",
       "    <tr>\n",
       "      <th>1</th>\n",
       "      <td>985</td>\n",
       "      <td>Alan Mitchell</td>\n",
       "      <td>Engineer, electrical</td>\n",
       "      <td>Yes</td>\n",
       "    </tr>\n",
       "    <tr>\n",
       "      <th>2</th>\n",
       "      <td>432</td>\n",
       "      <td>Alexis Riddle</td>\n",
       "      <td>Engineer, mining</td>\n",
       "      <td>No</td>\n",
       "    </tr>\n",
       "    <tr>\n",
       "      <th>3</th>\n",
       "      <td>568</td>\n",
       "      <td>Alice Lee</td>\n",
       "      <td>Engineer, civil (consulting)</td>\n",
       "      <td>No</td>\n",
       "    </tr>\n",
       "    <tr>\n",
       "      <th>4</th>\n",
       "      <td>918</td>\n",
       "      <td>Alison Vaughan</td>\n",
       "      <td>Engineer, water</td>\n",
       "      <td>Yes</td>\n",
       "    </tr>\n",
       "    <tr>\n",
       "      <th>...</th>\n",
       "      <td>...</td>\n",
       "      <td>...</td>\n",
       "      <td>...</td>\n",
       "      <td>...</td>\n",
       "    </tr>\n",
       "    <tr>\n",
       "      <th>356</th>\n",
       "      <td>966</td>\n",
       "      <td>William Garcia</td>\n",
       "      <td>Engineer, broadcasting (operations)</td>\n",
       "      <td>No</td>\n",
       "    </tr>\n",
       "    <tr>\n",
       "      <th>357</th>\n",
       "      <td>973</td>\n",
       "      <td>William Jackson</td>\n",
       "      <td>Engineer, communications</td>\n",
       "      <td>Yes</td>\n",
       "    </tr>\n",
       "    <tr>\n",
       "      <th>358</th>\n",
       "      <td>699</td>\n",
       "      <td>Willie Greene</td>\n",
       "      <td>Engineer, electronics</td>\n",
       "      <td>Yes</td>\n",
       "    </tr>\n",
       "    <tr>\n",
       "      <th>359</th>\n",
       "      <td>952</td>\n",
       "      <td>Yolanda White</td>\n",
       "      <td>Chemical engineer</td>\n",
       "      <td>No</td>\n",
       "    </tr>\n",
       "    <tr>\n",
       "      <th>360</th>\n",
       "      <td>421</td>\n",
       "      <td>Zachary Ruiz</td>\n",
       "      <td>Chemical engineer</td>\n",
       "      <td>Yes</td>\n",
       "    </tr>\n",
       "  </tbody>\n",
       "</table>\n",
       "<p>361 rows × 4 columns</p>\n",
       "</div>"
      ],
      "text/plain": [
       "     CustomerID             Name                           Occupation Over30\n",
       "0           622       Aaron Rose                 Engineer, production     No\n",
       "1           985    Alan Mitchell                 Engineer, electrical    Yes\n",
       "2           432    Alexis Riddle                     Engineer, mining     No\n",
       "3           568        Alice Lee         Engineer, civil (consulting)     No\n",
       "4           918   Alison Vaughan                      Engineer, water    Yes\n",
       "..          ...              ...                                  ...    ...\n",
       "356         966   William Garcia  Engineer, broadcasting (operations)     No\n",
       "357         973  William Jackson             Engineer, communications    Yes\n",
       "358         699    Willie Greene                Engineer, electronics    Yes\n",
       "359         952    Yolanda White                    Chemical engineer     No\n",
       "360         421     Zachary Ruiz                    Chemical engineer    Yes\n",
       "\n",
       "[361 rows x 4 columns]"
      ]
     },
     "execution_count": 34,
     "metadata": {},
     "output_type": "execute_result"
    }
   ],
   "source": [
    "runQuery(\"\"\"\n",
    "SELECT CustomerID, Name, Occupation,\n",
    "    CASE\n",
    "        WHEN Age >= 30 THEN 'Yes'\n",
    "        WHEN Age < 30 THEN 'No'\n",
    "        ELSE 'Missing Data'\n",
    "    END AS Over30\n",
    "FROM Customer\n",
    "Where occupation LIKE '%engineer%'\n",
    "ORDER BY Name ASC\n",
    "\"\"\")"
   ]
  },
  {
   "cell_type": "markdown",
   "metadata": {},
   "source": [
    "-------"
   ]
  },
  {
   "cell_type": "markdown",
   "metadata": {},
   "source": [
    "<h2>Investigating customer conversion rates</h2>"
   ]
  },
  {
   "cell_type": "markdown",
   "metadata": {},
   "source": [
    "<p>In order to validate whether our hypotheses about engineers and age are true (for example, engineers exhibit higher product sales conversion rates, and perhaps engineers over 30 tend to exhibit an even higher conversion rate), we will need to use two tables: <code>Call</code> and <code>Customer</code>. This is because the column <code>ProductSold</code> lies only in the <code>Call</code> table, yet information about customer professions and age only lie in the <code>Customer</code> table.</p>\n",
    "<p><code>SELECT</code> commands are not restricted to a single table. In fact, theoretically, there is no limit to the number of tables that you can extract data from in a single SQL query. Let's introduce some new concepts that are relevant once we go beyond a single table.</p>\n",
    "<p><strong>Primary and foreign keys</strong> are very important concepts that need to be understood by any database professional. Primary keys:</p>\n",
    "<ol>\n",
    "<li>Uniquely identify a record in the table. Their name usually includes the word \"ID\"<ul>\n",
    "<li>For example, <code>CustomerID</code> is the primary key of the <code>Customer</code> table, <code>AgentID</code> is the primary key of the <code>Agent</code> table, and <code>CallID</code> is the primary key of the <code>Call</code> table    </li>\n",
    "</ul>\n",
    "</li>\n",
    "<li>Do not accept null values. And they shouldn't, because they are being used to identify the record</li>\n",
    "<li>Are limited to one per table</li>\n",
    "</ol>\n",
    "<p>On the other hand, foreign keys:</p>\n",
    "<ol>\n",
    "<li>Are a field in the table that is the primary key in another table</li>\n",
    "<li>Can accept null values</li>\n",
    "<li>Are not limited in any way per table<ul>\n",
    "<li>For example, the <code>Call</code> tables has 2 foreign keys: <code>AgentID</code> and <code>CustomerID</code> pointing to the <code>Agent</code> and <code>Customer</code> tables, respectively</li>\n",
    "</ul>\n",
    "</li>\n",
    "</ol>"
   ]
  },
  {
   "cell_type": "markdown",
   "metadata": {},
   "source": [
    "<h3>Extracting call data for customers working in engineering professions</h3>"
   ]
  },
  {
   "cell_type": "markdown",
   "metadata": {},
   "source": [
    "<p>Let's first extract the relevant data so we can perform this analysis. Here, a <strong><code>JOIN</code></strong> clause will come in handy. </p>\n",
    "<p><code>JOIN</code> clauses are used to combine data from two or more tables in the same query. For example, in the current scenario, we need to get the name of the agent involved in a call. The <code>Call</code> table contains only the <code>AgentID</code> and not the name of the agent. <code>JOIN</code> becomes useful here so we can match up the <code>Call</code> table with the <code>Agent</code> table, which does contain the name information.</p>\n",
    "<p>Here's a diagram showing how <code>JOIN</code> (specifically, the <strong><code>INNER JOIN</code></strong>, which is the default version and the only one you will need to worry about in this case) works. Notice that only the rows with <code>id</code> of 1 and 4 are extracted because those are the only two <code>id</code>s which show up in both tables:</p>\n",
    "<p><img alt=\"Join\" src=\"./images/join.png\" /></p>\n",
    "<p>A <code>JOIN</code> clause consists of two parts:</p>\n",
    "<ol>\n",
    "<li>The base <code>JOIN</code> statement, which is of the form <code>[Table 1] JOIN [Table 2]</code>. This performs a Cartesian product on the 2 tables being joined. For example, if we have Table A with 5 rows, and Table 5 with 3 rows, their Cartesian product will return 15 rows (5 x 3)</li>\n",
    "<li>A <code>JOIN</code> criteria, which filters the Cartesian product's results, beginning with the <code>ON</code> keyword</li>\n",
    "</ol>\n",
    "<p>Here is an example of a <code>JOIN</code> criteria in action, which is telling us to only give combinations of rows where the agent ID matches in both tables:</p>\n",
    "<div class=\"codehilite\"><pre><span></span><code><span class=\"k\">SELECT</span> <span class=\"n\">CallID</span><span class=\"p\">,</span> <span class=\"n\">A</span><span class=\"p\">.</span><span class=\"n\">AgentID</span><span class=\"p\">,</span> <span class=\"n\">name</span>\n",
    "<span class=\"k\">FROM</span> <span class=\"k\">Call</span> <span class=\"k\">C</span>\n",
    "<span class=\"k\">JOIN</span> <span class=\"n\">Agent</span> <span class=\"n\">A</span> <span class=\"k\">ON</span> <span class=\"k\">C</span><span class=\"p\">.</span><span class=\"n\">AgentID</span> <span class=\"o\">=</span> <span class=\"n\">A</span><span class=\"p\">.</span><span class=\"n\">AgentID</span>\n",
    "<span class=\"k\">ORDER</span> <span class=\"k\">BY</span> <span class=\"n\">Name</span> <span class=\"k\">DESC</span>\n",
    "</code></pre></div>"
   ]
  },
  {
   "cell_type": "code",
   "execution_count": 41,
   "metadata": {},
   "outputs": [
    {
     "data": {
      "text/html": [
       "<div>\n",
       "<style scoped>\n",
       "    .dataframe tbody tr th:only-of-type {\n",
       "        vertical-align: middle;\n",
       "    }\n",
       "\n",
       "    .dataframe tbody tr th {\n",
       "        vertical-align: top;\n",
       "    }\n",
       "\n",
       "    .dataframe thead th {\n",
       "        text-align: right;\n",
       "    }\n",
       "</style>\n",
       "<table border=\"1\" class=\"dataframe\">\n",
       "  <thead>\n",
       "    <tr style=\"text-align: right;\">\n",
       "      <th></th>\n",
       "      <th>CallID</th>\n",
       "      <th>AgentID</th>\n",
       "      <th>Name</th>\n",
       "    </tr>\n",
       "  </thead>\n",
       "  <tbody>\n",
       "    <tr>\n",
       "      <th>0</th>\n",
       "      <td>0</td>\n",
       "      <td>10</td>\n",
       "      <td>Agent X</td>\n",
       "    </tr>\n",
       "    <tr>\n",
       "      <th>1</th>\n",
       "      <td>2</td>\n",
       "      <td>10</td>\n",
       "      <td>Agent X</td>\n",
       "    </tr>\n",
       "    <tr>\n",
       "      <th>2</th>\n",
       "      <td>6</td>\n",
       "      <td>10</td>\n",
       "      <td>Agent X</td>\n",
       "    </tr>\n",
       "    <tr>\n",
       "      <th>3</th>\n",
       "      <td>15</td>\n",
       "      <td>10</td>\n",
       "      <td>Agent X</td>\n",
       "    </tr>\n",
       "    <tr>\n",
       "      <th>4</th>\n",
       "      <td>17</td>\n",
       "      <td>10</td>\n",
       "      <td>Agent X</td>\n",
       "    </tr>\n",
       "    <tr>\n",
       "      <th>...</th>\n",
       "      <td>...</td>\n",
       "      <td>...</td>\n",
       "      <td>...</td>\n",
       "    </tr>\n",
       "    <tr>\n",
       "      <th>9934</th>\n",
       "      <td>9959</td>\n",
       "      <td>3</td>\n",
       "      <td>Todd Morrow</td>\n",
       "    </tr>\n",
       "    <tr>\n",
       "      <th>9935</th>\n",
       "      <td>9970</td>\n",
       "      <td>3</td>\n",
       "      <td>Todd Morrow</td>\n",
       "    </tr>\n",
       "    <tr>\n",
       "      <th>9936</th>\n",
       "      <td>9979</td>\n",
       "      <td>3</td>\n",
       "      <td>Todd Morrow</td>\n",
       "    </tr>\n",
       "    <tr>\n",
       "      <th>9937</th>\n",
       "      <td>9984</td>\n",
       "      <td>3</td>\n",
       "      <td>Todd Morrow</td>\n",
       "    </tr>\n",
       "    <tr>\n",
       "      <th>9938</th>\n",
       "      <td>9999</td>\n",
       "      <td>3</td>\n",
       "      <td>Todd Morrow</td>\n",
       "    </tr>\n",
       "  </tbody>\n",
       "</table>\n",
       "<p>9939 rows × 3 columns</p>\n",
       "</div>"
      ],
      "text/plain": [
       "      CallID  AgentID         Name\n",
       "0          0       10      Agent X\n",
       "1          2       10      Agent X\n",
       "2          6       10      Agent X\n",
       "3         15       10      Agent X\n",
       "4         17       10      Agent X\n",
       "...      ...      ...          ...\n",
       "9934    9959        3  Todd Morrow\n",
       "9935    9970        3  Todd Morrow\n",
       "9936    9979        3  Todd Morrow\n",
       "9937    9984        3  Todd Morrow\n",
       "9938    9999        3  Todd Morrow\n",
       "\n",
       "[9939 rows x 3 columns]"
      ]
     },
     "execution_count": 41,
     "metadata": {},
     "output_type": "execute_result"
    }
   ],
   "source": [
    "query6 = \"\"\"SELECT CallID, A.AgentID, name\n",
    "FROM Call C\n",
    "JOIN Agent A ON C.AgentID = A.AgentID\n",
    "ORDER BY Name ASC\"\"\"\n",
    "runQuery(query6)"
   ]
  },
  {
   "cell_type": "markdown",
   "metadata": {},
   "source": [
    "<p>Note that:</p>\n",
    "<ol>\n",
    "<li><code>C</code> and <code>A</code> are aliases to the <code>Call</code> and <code>Agent</code> tables to avoid having to type the table name every time. Unlike with column aliasing earlier, we do not need the <code>AS</code> keyword here</li>\n",
    "<li>We write <code>A.AgentID</code> instead of <code>AgentID</code> in the SELECT statement – this is because the <code>AgentID</code> column exists in both tables, so we have to tell the database which one to get the result from</li>\n",
    "</ol>"
   ]
  },
  {
   "cell_type": "markdown",
   "metadata": {},
   "source": [
    "<h3>Exercise 4:</h3>\n",
    "<p>Write a query which returns all calls made out to customers in the engineering profession, and shows whether they are over or under 30 as well as whether they ended up purchasing the product from that call.</p>"
   ]
  },
  {
   "cell_type": "code",
   "execution_count": 54,
   "metadata": {
    "tags": [
     "ans_st"
    ]
   },
   "outputs": [
    {
     "data": {
      "text/html": [
       "<div>\n",
       "<style scoped>\n",
       "    .dataframe tbody tr th:only-of-type {\n",
       "        vertical-align: middle;\n",
       "    }\n",
       "\n",
       "    .dataframe tbody tr th {\n",
       "        vertical-align: top;\n",
       "    }\n",
       "\n",
       "    .dataframe thead th {\n",
       "        text-align: right;\n",
       "    }\n",
       "</style>\n",
       "<table border=\"1\" class=\"dataframe\">\n",
       "  <thead>\n",
       "    <tr style=\"text-align: right;\">\n",
       "      <th></th>\n",
       "      <th>CallID</th>\n",
       "      <th>Name</th>\n",
       "      <th>Over30</th>\n",
       "      <th>ProductSold</th>\n",
       "    </tr>\n",
       "  </thead>\n",
       "  <tbody>\n",
       "    <tr>\n",
       "      <th>0</th>\n",
       "      <td>2049</td>\n",
       "      <td>Zachary Ruiz</td>\n",
       "      <td>Yes</td>\n",
       "      <td>0</td>\n",
       "    </tr>\n",
       "    <tr>\n",
       "      <th>1</th>\n",
       "      <td>2960</td>\n",
       "      <td>Zachary Ruiz</td>\n",
       "      <td>Yes</td>\n",
       "      <td>0</td>\n",
       "    </tr>\n",
       "    <tr>\n",
       "      <th>2</th>\n",
       "      <td>3365</td>\n",
       "      <td>Zachary Ruiz</td>\n",
       "      <td>Yes</td>\n",
       "      <td>0</td>\n",
       "    </tr>\n",
       "    <tr>\n",
       "      <th>3</th>\n",
       "      <td>3386</td>\n",
       "      <td>Zachary Ruiz</td>\n",
       "      <td>Yes</td>\n",
       "      <td>1</td>\n",
       "    </tr>\n",
       "    <tr>\n",
       "      <th>4</th>\n",
       "      <td>4332</td>\n",
       "      <td>Zachary Ruiz</td>\n",
       "      <td>Yes</td>\n",
       "      <td>0</td>\n",
       "    </tr>\n",
       "    <tr>\n",
       "      <th>...</th>\n",
       "      <td>...</td>\n",
       "      <td>...</td>\n",
       "      <td>...</td>\n",
       "      <td>...</td>\n",
       "    </tr>\n",
       "    <tr>\n",
       "      <th>3614</th>\n",
       "      <td>6444</td>\n",
       "      <td>Aaron Rose</td>\n",
       "      <td>No</td>\n",
       "      <td>1</td>\n",
       "    </tr>\n",
       "    <tr>\n",
       "      <th>3615</th>\n",
       "      <td>7994</td>\n",
       "      <td>Aaron Rose</td>\n",
       "      <td>No</td>\n",
       "      <td>0</td>\n",
       "    </tr>\n",
       "    <tr>\n",
       "      <th>3616</th>\n",
       "      <td>8811</td>\n",
       "      <td>Aaron Rose</td>\n",
       "      <td>No</td>\n",
       "      <td>0</td>\n",
       "    </tr>\n",
       "    <tr>\n",
       "      <th>3617</th>\n",
       "      <td>9524</td>\n",
       "      <td>Aaron Rose</td>\n",
       "      <td>No</td>\n",
       "      <td>1</td>\n",
       "    </tr>\n",
       "    <tr>\n",
       "      <th>3618</th>\n",
       "      <td>9965</td>\n",
       "      <td>Aaron Rose</td>\n",
       "      <td>No</td>\n",
       "      <td>0</td>\n",
       "    </tr>\n",
       "  </tbody>\n",
       "</table>\n",
       "<p>3619 rows × 4 columns</p>\n",
       "</div>"
      ],
      "text/plain": [
       "      CallID          Name Over30  ProductSold\n",
       "0       2049  Zachary Ruiz    Yes            0\n",
       "1       2960  Zachary Ruiz    Yes            0\n",
       "2       3365  Zachary Ruiz    Yes            0\n",
       "3       3386  Zachary Ruiz    Yes            1\n",
       "4       4332  Zachary Ruiz    Yes            0\n",
       "...      ...           ...    ...          ...\n",
       "3614    6444    Aaron Rose     No            1\n",
       "3615    7994    Aaron Rose     No            0\n",
       "3616    8811    Aaron Rose     No            0\n",
       "3617    9524    Aaron Rose     No            1\n",
       "3618    9965    Aaron Rose     No            0\n",
       "\n",
       "[3619 rows x 4 columns]"
      ]
     },
     "execution_count": 54,
     "metadata": {},
     "output_type": "execute_result"
    }
   ],
   "source": [
    "runQuery(\"\"\"\n",
    "SELECT ca.CallID, cu.Name,\n",
    "    CASE\n",
    "        WHEN Age >= 30 THEN 'Yes'\n",
    "        WHEN Age < 30 THEN 'No'\n",
    "        ELSE 'Missing Data'\n",
    "    END AS Over30,\n",
    "    ca.ProductSold\n",
    "FROM Call ca\n",
    "JOIN Customer CU ON ca.CustomerID = cu.CustomerID\n",
    "WHERE cu.Occupation LIKE '%Engineer%'\n",
    "ORDER BY Name DESC\n",
    "\"\"\")"
   ]
  },
  {
   "cell_type": "markdown",
   "metadata": {},
   "source": [
    "-------"
   ]
  },
  {
   "cell_type": "markdown",
   "metadata": {},
   "source": [
    "<h2>Analyzing the call conversion data</h2>\n",
    "<p>Now, we want to determine whether or not customers in our desired cohort exhibit a higher sales conversion rate compared to the overall population of customers. A reasonable way to do this is to count the total number of calls to this cohort which resulted in a sale, and divide that by the total number of calls to this cohort (whether or not they resulted in a sale) to get a percentage, and then compare that with the percentage we compute from the <code>calls</code> table overall.</p>\n",
    "<p>However, to compute these figures, we'll need to learn a bit about <strong>aggregation functions</strong>. An aggregation function allows you to perform a calculation on a set of values to return a single value, essentially computing some sort of summary statistic.</p>\n",
    "<p>Aggregation queries usually look like this:</p>\n",
    "<p><img alt=\"Aggregation Queries\" src=\"./images/aggregation.png\" /></p>\n",
    "<p>The following are the most commonly used SQL aggregate functions:</p>\n",
    "<ol>\n",
    "<li><code>AVG()</code> – calculates the average of a set of values</li>\n",
    "<li><code>COUNT()</code> – counts rows in a specified table or view</li>\n",
    "<li><code>MIN()</code> – gets the minimum value in a set of values</li>\n",
    "<li><code>MAX()</code> – gets the maximum value in a set of values</li>\n",
    "<li><code>SUM()</code> – calculates the sum of values</li>\n",
    "</ol>\n",
    "<p>As mentioned before, PostgreSQL as some more advanced <a href=\"https://www.postgresql.org/docs/9.5/functions-aggregate.html\">aggregate functions</a>. Specifically, they have some nice ones for statistics. For example,</p>\n",
    "<ol>\n",
    "<li><code>regr_intercept(Y, X)</code> - Returns the intercept for the line of best fit</li>\n",
    "<li><code>regr_slope(Y, X)</code> - Returns the slope of the line of best fit</li>\n",
    "<li><code>corr(Y, X)</code> - Returns the correlation between two columns</li>\n",
    "</ol>"
   ]
  },
  {
   "cell_type": "markdown",
   "metadata": {},
   "source": [
    "<h3>Exercise 5:</h3>\n",
    "<p>Write two queries - one that computes the total sales and total calls made to customers in the engineering profession, and one that computes the same metrics for the entire customer base. What can you conclude regarding the conversion rate within the engineering customers vs. the overall customer base?</p>"
   ]
  },
  {
   "cell_type": "code",
   "execution_count": 56,
   "metadata": {
    "tags": [
     "ans_st"
    ]
   },
   "outputs": [
    {
     "data": {
      "text/html": [
       "<div>\n",
       "<style scoped>\n",
       "    .dataframe tbody tr th:only-of-type {\n",
       "        vertical-align: middle;\n",
       "    }\n",
       "\n",
       "    .dataframe tbody tr th {\n",
       "        vertical-align: top;\n",
       "    }\n",
       "\n",
       "    .dataframe thead th {\n",
       "        text-align: right;\n",
       "    }\n",
       "</style>\n",
       "<table border=\"1\" class=\"dataframe\">\n",
       "  <thead>\n",
       "    <tr style=\"text-align: right;\">\n",
       "      <th></th>\n",
       "      <th>TotalSales</th>\n",
       "      <th>NCalls</th>\n",
       "    </tr>\n",
       "  </thead>\n",
       "  <tbody>\n",
       "    <tr>\n",
       "      <th>0</th>\n",
       "      <td>760</td>\n",
       "      <td>3619</td>\n",
       "    </tr>\n",
       "  </tbody>\n",
       "</table>\n",
       "</div>"
      ],
      "text/plain": [
       "   TotalSales  NCalls\n",
       "0         760    3619"
      ]
     },
     "execution_count": 56,
     "metadata": {},
     "output_type": "execute_result"
    }
   ],
   "source": [
    "query8 = \"\"\"SELECT SUM(ProductSold) AS TotalSales, COUNT(*) AS NCalls\n",
    "FROM Customer Cu\n",
    "JOIN Call Ca ON Ca.CustomerID = Cu.CustomerID\n",
    "WHERE Occupation LIKE '%Engineer%'\"\"\"\n",
    "runQuery(query8)"
   ]
  },
  {
   "cell_type": "code",
   "execution_count": 57,
   "metadata": {},
   "outputs": [
    {
     "data": {
      "text/html": [
       "<div>\n",
       "<style scoped>\n",
       "    .dataframe tbody tr th:only-of-type {\n",
       "        vertical-align: middle;\n",
       "    }\n",
       "\n",
       "    .dataframe tbody tr th {\n",
       "        vertical-align: top;\n",
       "    }\n",
       "\n",
       "    .dataframe thead th {\n",
       "        text-align: right;\n",
       "    }\n",
       "</style>\n",
       "<table border=\"1\" class=\"dataframe\">\n",
       "  <thead>\n",
       "    <tr style=\"text-align: right;\">\n",
       "      <th></th>\n",
       "      <th>TotalSales</th>\n",
       "      <th>NCalls</th>\n",
       "    </tr>\n",
       "  </thead>\n",
       "  <tbody>\n",
       "    <tr>\n",
       "      <th>0</th>\n",
       "      <td>2084</td>\n",
       "      <td>9925</td>\n",
       "    </tr>\n",
       "  </tbody>\n",
       "</table>\n",
       "</div>"
      ],
      "text/plain": [
       "   TotalSales  NCalls\n",
       "0        2084    9925"
      ]
     },
     "execution_count": 57,
     "metadata": {},
     "output_type": "execute_result"
    }
   ],
   "source": [
    "query9 = \"\"\"SELECT SUM(ProductSold) AS TotalSales, COUNT(*) AS NCalls\n",
    "FROM Customer Cu\n",
    "JOIN Call Ca ON Ca.CustomerID = Cu.CustomerID\"\"\"\n",
    "runQuery(query9)"
   ]
  },
  {
   "cell_type": "markdown",
   "metadata": {},
   "source": [
    "The conversion rate for both groups is ~20.9%, indicating that engineers are not more likely to purchase our products than the overall population."
   ]
  },
  {
   "cell_type": "markdown",
   "metadata": {},
   "source": [
    "-------"
   ]
  },
  {
   "cell_type": "markdown",
   "metadata": {},
   "source": [
    "<h3>Exercise 6:</h3>\n",
    "<p>Write a query that computes the total sales and total calls made to customers over the age of 30. Is there a notable difference between the conversion ratio here and that of the overall customer base?</p>"
   ]
  },
  {
   "cell_type": "code",
   "execution_count": 61,
   "metadata": {
    "tags": [
     "ans_st"
    ]
   },
   "outputs": [
    {
     "data": {
      "text/html": [
       "<div>\n",
       "<style scoped>\n",
       "    .dataframe tbody tr th:only-of-type {\n",
       "        vertical-align: middle;\n",
       "    }\n",
       "\n",
       "    .dataframe tbody tr th {\n",
       "        vertical-align: top;\n",
       "    }\n",
       "\n",
       "    .dataframe thead th {\n",
       "        text-align: right;\n",
       "    }\n",
       "</style>\n",
       "<table border=\"1\" class=\"dataframe\">\n",
       "  <thead>\n",
       "    <tr style=\"text-align: right;\">\n",
       "      <th></th>\n",
       "      <th>TotalSales</th>\n",
       "      <th>NCalls</th>\n",
       "    </tr>\n",
       "  </thead>\n",
       "  <tbody>\n",
       "    <tr>\n",
       "      <th>0</th>\n",
       "      <td>659</td>\n",
       "      <td>3096</td>\n",
       "    </tr>\n",
       "  </tbody>\n",
       "</table>\n",
       "</div>"
      ],
      "text/plain": [
       "   TotalSales  NCalls\n",
       "0         659    3096"
      ]
     },
     "execution_count": 61,
     "metadata": {},
     "output_type": "execute_result"
    }
   ],
   "source": [
    "runQuery(\"\"\"\n",
    "SELECT SUM(ProductSold) AS TotalSales, COUNT(*) AS NCalls\n",
    "FROM Customer Cu\n",
    "JOIN Call Ca ON Ca.CustomerID = Cu.CustomerID\n",
    "WHERE Age >= 30 \n",
    "\"\"\")"
   ]
  },
  {
   "cell_type": "markdown",
   "metadata": {},
   "source": [
    "-------"
   ]
  },
  {
   "cell_type": "markdown",
   "metadata": {},
   "source": [
    "<h3>Exercise 7:</h3>\n",
    "<p>How about if you look at the sales conversion rate for engineers over the age of 30?</p>"
   ]
  },
  {
   "cell_type": "code",
   "execution_count": 62,
   "metadata": {
    "tags": [
     "ans_st"
    ]
   },
   "outputs": [
    {
     "data": {
      "text/html": [
       "<div>\n",
       "<style scoped>\n",
       "    .dataframe tbody tr th:only-of-type {\n",
       "        vertical-align: middle;\n",
       "    }\n",
       "\n",
       "    .dataframe tbody tr th {\n",
       "        vertical-align: top;\n",
       "    }\n",
       "\n",
       "    .dataframe thead th {\n",
       "        text-align: right;\n",
       "    }\n",
       "</style>\n",
       "<table border=\"1\" class=\"dataframe\">\n",
       "  <thead>\n",
       "    <tr style=\"text-align: right;\">\n",
       "      <th></th>\n",
       "      <th>TotalSales</th>\n",
       "      <th>NCalls</th>\n",
       "    </tr>\n",
       "  </thead>\n",
       "  <tbody>\n",
       "    <tr>\n",
       "      <th>0</th>\n",
       "      <td>376</td>\n",
       "      <td>1816</td>\n",
       "    </tr>\n",
       "  </tbody>\n",
       "</table>\n",
       "</div>"
      ],
      "text/plain": [
       "   TotalSales  NCalls\n",
       "0         376    1816"
      ]
     },
     "execution_count": 62,
     "metadata": {},
     "output_type": "execute_result"
    }
   ],
   "source": [
    "runQuery(\"\"\"\n",
    "SELECT SUM(ProductSold) AS TotalSales, COUNT(*) AS NCalls\n",
    "FROM Customer Cu\n",
    "JOIN Call Ca ON Ca.CustomerID = Cu.CustomerID\n",
    "WHERE Age >= 30\n",
    "AND Occupation LIKE '%Engineer%'\n",
    "\"\"\")"
   ]
  },
  {
   "cell_type": "markdown",
   "metadata": {},
   "source": [
    "-------"
   ]
  },
  {
   "cell_type": "markdown",
   "metadata": {},
   "source": [
    "<h2>Evaluating our agents' performance</h2>"
   ]
  },
  {
   "cell_type": "markdown",
   "metadata": {},
   "source": [
    "<p>Recall the second part of our business question: we need to figure out which of our agents are the most and least productive. To do this, it makes sense to determine which metrics could be related to productivity. Looking at the features present, the following seem to be reasonable:</p>\n",
    "<ol>\n",
    "<li>The number of calls an agent made</li>\n",
    "<li>The lengths of calls an agent made</li>\n",
    "<li>The total number of products an agent sold</li>\n",
    "</ol>"
   ]
  },
  {
   "cell_type": "markdown",
   "metadata": {},
   "source": [
    "<h3>Question:</h3>\n",
    "<p>For any given agent, would extracting this info be a good way of quickly analyzing their productivity? Why or why not?</p>"
   ]
  },
  {
   "cell_type": "markdown",
   "metadata": {},
   "source": [
    "<p>While the above metrics are useful, some of them are too numerous to be easiy analyzed. Specifically, the lengths of calls an agent made is a dataset that is as large as the number of calls the agent made. If the agent made many calls, it will be meaningless to just throw the entire set of call lengths at ourselves. Instead, we ought to compute some summary statistics of this metric; namely, the minimum, maximum, and mean lengths seem reasonable.</p>"
   ]
  },
  {
   "cell_type": "markdown",
   "metadata": {},
   "source": [
    "<h3>Exercise 8:</h3>\n",
    "<p>Write a query that returns, for each agent, the agent's name, number of calls, longest and shortest call lengths, average call length, and total number of products sold. Name the columns <code>AgentName</code>, <code>NCalls</code>, <code>Shortest</code>, <code>Longest</code>, <code>AvgDuration</code>, and <code>TotalSales</code>, and order the table by <code>AgentName</code> alphabetically. (Make sure to include the <code>WHERE PickedUp = 1</code> clause to only calculate the average across all the calls that were picked up (otherwise all the minimum durations will be 0)!)</p>"
   ]
  },
  {
   "cell_type": "code",
   "execution_count": 66,
   "metadata": {
    "tags": [
     "ans_st"
    ]
   },
   "outputs": [
    {
     "data": {
      "text/html": [
       "<div>\n",
       "<style scoped>\n",
       "    .dataframe tbody tr th:only-of-type {\n",
       "        vertical-align: middle;\n",
       "    }\n",
       "\n",
       "    .dataframe tbody tr th {\n",
       "        vertical-align: top;\n",
       "    }\n",
       "\n",
       "    .dataframe thead th {\n",
       "        text-align: right;\n",
       "    }\n",
       "</style>\n",
       "<table border=\"1\" class=\"dataframe\">\n",
       "  <thead>\n",
       "    <tr style=\"text-align: right;\">\n",
       "      <th></th>\n",
       "      <th>AgentName</th>\n",
       "      <th>NCalls</th>\n",
       "      <th>Shortest</th>\n",
       "      <th>Longest</th>\n",
       "      <th>AvgDuration</th>\n",
       "      <th>TotalSales</th>\n",
       "      <th>SUM(ProductSold)/COUNT(*)</th>\n",
       "    </tr>\n",
       "  </thead>\n",
       "  <tbody>\n",
       "    <tr>\n",
       "      <th>0</th>\n",
       "      <td>Agent X</td>\n",
       "      <td>640</td>\n",
       "      <td>22</td>\n",
       "      <td>334</td>\n",
       "      <td>180.975000</td>\n",
       "      <td>194</td>\n",
       "      <td>0</td>\n",
       "    </tr>\n",
       "    <tr>\n",
       "      <th>1</th>\n",
       "      <td>Angel Briggs</td>\n",
       "      <td>591</td>\n",
       "      <td>12</td>\n",
       "      <td>362</td>\n",
       "      <td>181.081218</td>\n",
       "      <td>157</td>\n",
       "      <td>0</td>\n",
       "    </tr>\n",
       "    <tr>\n",
       "      <th>2</th>\n",
       "      <td>Christopher Moreno</td>\n",
       "      <td>649</td>\n",
       "      <td>47</td>\n",
       "      <td>363</td>\n",
       "      <td>177.979969</td>\n",
       "      <td>189</td>\n",
       "      <td>0</td>\n",
       "    </tr>\n",
       "    <tr>\n",
       "      <th>3</th>\n",
       "      <td>Dana Hardy</td>\n",
       "      <td>554</td>\n",
       "      <td>49</td>\n",
       "      <td>356</td>\n",
       "      <td>177.203971</td>\n",
       "      <td>182</td>\n",
       "      <td>0</td>\n",
       "    </tr>\n",
       "    <tr>\n",
       "      <th>4</th>\n",
       "      <td>Gloria Singh</td>\n",
       "      <td>662</td>\n",
       "      <td>36</td>\n",
       "      <td>349</td>\n",
       "      <td>182.175227</td>\n",
       "      <td>209</td>\n",
       "      <td>0</td>\n",
       "    </tr>\n",
       "    <tr>\n",
       "      <th>...</th>\n",
       "      <td>...</td>\n",
       "      <td>...</td>\n",
       "      <td>...</td>\n",
       "      <td>...</td>\n",
       "      <td>...</td>\n",
       "      <td>...</td>\n",
       "      <td>...</td>\n",
       "    </tr>\n",
       "    <tr>\n",
       "      <th>6</th>\n",
       "      <td>Lisa Cordova</td>\n",
       "      <td>639</td>\n",
       "      <td>46</td>\n",
       "      <td>344</td>\n",
       "      <td>179.214397</td>\n",
       "      <td>201</td>\n",
       "      <td>0</td>\n",
       "    </tr>\n",
       "    <tr>\n",
       "      <th>7</th>\n",
       "      <td>Michele Williams</td>\n",
       "      <td>685</td>\n",
       "      <td>22</td>\n",
       "      <td>306</td>\n",
       "      <td>177.880292</td>\n",
       "      <td>198</td>\n",
       "      <td>0</td>\n",
       "    </tr>\n",
       "    <tr>\n",
       "      <th>8</th>\n",
       "      <td>Paul Nunez</td>\n",
       "      <td>648</td>\n",
       "      <td>-5</td>\n",
       "      <td>323</td>\n",
       "      <td>181.070988</td>\n",
       "      <td>194</td>\n",
       "      <td>0</td>\n",
       "    </tr>\n",
       "    <tr>\n",
       "      <th>9</th>\n",
       "      <td>Randy Moore</td>\n",
       "      <td>600</td>\n",
       "      <td>16</td>\n",
       "      <td>326</td>\n",
       "      <td>178.595000</td>\n",
       "      <td>177</td>\n",
       "      <td>0</td>\n",
       "    </tr>\n",
       "    <tr>\n",
       "      <th>10</th>\n",
       "      <td>Todd Morrow</td>\n",
       "      <td>631</td>\n",
       "      <td>-3</td>\n",
       "      <td>339</td>\n",
       "      <td>180.711569</td>\n",
       "      <td>204</td>\n",
       "      <td>0</td>\n",
       "    </tr>\n",
       "  </tbody>\n",
       "</table>\n",
       "<p>11 rows × 7 columns</p>\n",
       "</div>"
      ],
      "text/plain": [
       "             AgentName  NCalls  Shortest  Longest  AvgDuration  TotalSales  \\\n",
       "0              Agent X     640        22      334   180.975000         194   \n",
       "1         Angel Briggs     591        12      362   181.081218         157   \n",
       "2   Christopher Moreno     649        47      363   177.979969         189   \n",
       "3           Dana Hardy     554        49      356   177.203971         182   \n",
       "4         Gloria Singh     662        36      349   182.175227         209   \n",
       "..                 ...     ...       ...      ...          ...         ...   \n",
       "6         Lisa Cordova     639        46      344   179.214397         201   \n",
       "7     Michele Williams     685        22      306   177.880292         198   \n",
       "8           Paul Nunez     648        -5      323   181.070988         194   \n",
       "9          Randy Moore     600        16      326   178.595000         177   \n",
       "10         Todd Morrow     631        -3      339   180.711569         204   \n",
       "\n",
       "    SUM(ProductSold)/COUNT(*)  \n",
       "0                           0  \n",
       "1                           0  \n",
       "2                           0  \n",
       "3                           0  \n",
       "4                           0  \n",
       "..                        ...  \n",
       "6                           0  \n",
       "7                           0  \n",
       "8                           0  \n",
       "9                           0  \n",
       "10                          0  \n",
       "\n",
       "[11 rows x 7 columns]"
      ]
     },
     "execution_count": 66,
     "metadata": {},
     "output_type": "execute_result"
    }
   ],
   "source": [
    "query12 = \"\"\"\n",
    "SELECT Name AS AgentName, COUNT(*) AS NCalls,\n",
    "    MIN(Duration) AS Shortest, MAX(Duration) AS Longest,\n",
    "    AVG(Duration) AS AvgDuration, SUM(ProductSold) AS TotalSales\n",
    "FROM Call C\n",
    "    JOIN Agent A ON C.AgentID = A.AgentID\n",
    "WHERE PickeDup = 1\n",
    "GROUP BY Name\n",
    "ORDER BY Name\n",
    "\"\"\"\n",
    "runQuery(query12)"
   ]
  },
  {
   "cell_type": "markdown",
   "metadata": {},
   "source": [
    "-------"
   ]
  },
  {
   "cell_type": "markdown",
   "metadata": {},
   "source": [
    "<h3>Question:</h3>\n",
    "<p>Throughout this case, we have defined sales conversion rate as the number of products sold divided by the number of calls made. What are the strengths and weaknesses of this choice of definition? Is there a way you can adjust the definition to correct for some of those weaknesses while retaining all the strengths?</p>"
   ]
  },
  {
   "cell_type": "markdown",
   "metadata": {},
   "source": [
    "<h2>A word about SQL statement types</h2>"
   ]
  },
  {
   "cell_type": "markdown",
   "metadata": {},
   "source": [
    "<p>In this case, you have used SQL's <a href=\"https://en.wikipedia.org/wiki/Data_manipulation_language\"><strong>Data Manipulation Language (DML)</strong></a> statements; that is, statements that are used to read or write (manipulate) data from the database. However, SQL also has the ability to create, modify, and remove database objects themselves as well as the data within them. It does this by using <a href=\"https://en.wikipedia.org/wiki/Data_definition_language\"><strong>Data Definition Language (DDL)</strong></a> statements which are commands that define the different structures in a database. You will learn more about these statements in future cases.</p>\n",
    "<p>There are two other types of SQL statements that are important, but less likely to be used by someone who is merely focused on analyzing data. We'll not not dig into these as it's very unlikely that you’ll have to deal with these anytime soon, but you are free to read up about them elsewhere if you are interested. They are:</p>\n",
    "<ol>\n",
    "<li>\n",
    "<p><a href=\"https://en.wikipedia.org/wiki/Data_control_language\"><strong>Data Control Language (DCL)</strong></a>: These determine who has permission to do what in the database. Everytime you log in to a database, you do that using (your) database user account. By default, a user after being created does not have permission to do anything, so someone (normally a <strong>database administrator (DBA)</strong>) needs to grant permission to that user to perform certain operations on the database.</p>\n",
    "</li>\n",
    "<li>\n",
    "<p><a href=\"https://en.wikipedia.org/wiki/SQL#Transaction_controls\"><strong>Transactional Control Language (TCL)</strong></a>: These commands are used to guarantee that full units of work are either completed as a whole or not at all. An example is a bank transfer: you need to ensure that if money has been withdrawn from account A, then it has also been deposited in account B, which requires wrapping these two commands into a transaction.</p>\n",
    "</li>\n",
    "</ol>"
   ]
  },
  {
   "cell_type": "markdown",
   "metadata": {},
   "source": [
    "<h2>Conclusions</h2>"
   ]
  },
  {
   "cell_type": "markdown",
   "metadata": {},
   "source": [
    "<p>In this case, you learned the basics of SQL and used it to optimize the sales operations of a financial services firm. We narrowed down our set of potentially interesting customer cohorts and were able to compute summary statistics on the sales conversion rates of those cohorts, particularly versus the mean. In particular, we learned that some of our \"no-brainer\" hypotheses did not pan out, which illustrates the importance of always investigating the data to validate our thoughts. We also looked at sales agent performance and were able to find the ones that were most/least productive on particular metrics.</p>"
   ]
  },
  {
   "cell_type": "markdown",
   "metadata": {},
   "source": [
    "<h2>Takeaways</h2>"
   ]
  },
  {
   "cell_type": "markdown",
   "metadata": {},
   "source": [
    "<p>In this case, we learned the basics of RDBMS systems and their appropriate terminology. We also built a foundation of basic SQL commands to extract data from a database. Specifically we:</p>\n",
    "<ol>\n",
    "<li>Learned what an RDBMS is</li>\n",
    "<li>Connected to a database using <code>SQLAlchemy</code></li>\n",
    "<li>Performed <code>SELECT ... FROM</code> queries</li>\n",
    "<li>Learned the <code>WHERE</code>, <code>ORDER BY</code>, <code>AS</code>, <code>DISTINCT</code>, <code>LIKE</code>, <code>CASE-END</code>, and <code>JOIN</code>, keywords</li>\n",
    "<li>Performed basic aggregation methods</li>\n",
    "</ol>\n",
    "<p>When working with large datasets, SQL is a powerful tool that can help us navigate and understand data in ways that Python cannot. Sometimes, it can even serve as the first stage of an exploratory data analysis and can help us answer questions all by itself. Furthermore, SQL is the means through which we can create and persist data in databases for future, large-scale use.</p>\n",
    "<p>As alluded to at the end, we only touched on one subset of SQL's capabilities and syntax - namely, performing queries that manipulate the data. No data scientist's toolkit is complete without an understanding of how to interface with and store the raw data that they work with. SQL is less of an everyday staple compared to Python, but you should still be familiar with the different capabilities of SQL and use this case as a cheat sheet for when you have to use SQL in the future. For your convenience, we've attached a cheat sheet at the end.      </p>"
   ]
  },
  {
   "cell_type": "markdown",
   "metadata": {},
   "source": [
    "## Appendix: SQL Cheat Sheet\n",
    "\n",
    "**SELECT**\n",
    "\n",
    "```SQL\n",
    "- SELECT * FROM table_name -- Select all columns from a table\n",
    "- SELECT column_name(s) FROM table_name -- Select some columns from a table\n",
    "- SELECT DISTINCT column_name(s) FROM table_name -- Select only the different values\n",
    "- SELECT column_name(s) FROM table_name -- Select data filtered with the WHERE clause\n",
    "  WHERE column operator value\n",
    "        AND column operator value\n",
    "        OR column operator value\n",
    "- SELECT column_name(s) FROM table_name -- Order data by multiple columns. DESC for descending \n",
    "  ORDER BY column_1, column_2 DESC, column_3 ASC -- and ASC (optional) for ascending order\n",
    "```\n",
    "\n",
    "**Operators**\n",
    "- `<` - Less than\n",
    "- `>` - Greater than\n",
    "- `<=` - Less than or equal\n",
    "- `>=` - Greater than or equal\n",
    "- `<>` - Not equal\n",
    "- `=` - Equal\n",
    "- `BETWEEN v1 AND v2` - Between a specified range\n",
    "- `LIKE` - Search pattern. Use '%' as a wildcard. E.g., '%o%' matches o, bob, blob, etc.\n",
    "\n",
    "**Aggregate Functions**\n",
    "- `AVG(column)` - Returns the average value of a column\n",
    "- `COUNT(column)` - Returns the number of rows (without a NULL value) of a column\n",
    "- `MAX(column)` - Returns the maximum value of a column\n",
    "- `MIN(column)` - Returns the minimum value of a column\n",
    "- `SUM(column)` - Returns the minimum value of a column\n",
    "```SQL\n",
    "SELECT AVG(column_name), MIN(column_name), MAX(column_name) FROM table_name\n",
    "```\n",
    " \n",
    "**Misc.**\n",
    "- `CASE-END` - Used in `SELECT` queries to alter a variable in place. E.g.\n",
    "```SQL\n",
    "SELECT column_name\n",
    "    CASE\n",
    "        WHEN column_name >= 0 THEN 'POSITIBE'\n",
    "        ELSE 'negative'\n",
    "    END\n",
    "FROM table\n",
    "```\n",
    "- `AS` - Used to rename a variable. E.g.\n",
    "```SQL\n",
    "SELECT SUM(column_name) AS total_column_name FROM table_name\n",
    "```\n",
    "- `GROUP BY` - Used to group rows that share the same value(s) in particular column(s). It is mostly used along with aggregation functions\n",
    "- `ORDER BY` - Determines the order in which the rows are returned by an SQL query"
   ]
  },
  {
   "cell_type": "code",
   "execution_count": null,
   "metadata": {},
   "outputs": [],
   "source": []
  }
 ],
 "metadata": {
  "kernelspec": {
   "display_name": "Python 3",
   "language": "python",
   "name": "python3"
  },
  "language_info": {
   "codemirror_mode": {
    "name": "ipython",
    "version": 3
   },
   "file_extension": ".py",
   "mimetype": "text/x-python",
   "name": "python",
   "nbconvert_exporter": "python",
   "pygments_lexer": "ipython3",
   "version": "3.9.1"
  }
 },
 "nbformat": 4,
 "nbformat_minor": 4
}
